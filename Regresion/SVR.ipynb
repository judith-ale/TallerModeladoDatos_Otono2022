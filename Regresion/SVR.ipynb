{
  "cells": [
    {
      "cell_type": "markdown",
      "metadata": {
        "id": "FbW9DgenM1kH"
      },
      "source": [
        "___\n",
        "<img style=\"float: right; margin: 0px 0px 15px 15px;\" src=\"https://www.researchgate.net/profile/Sandip-Lahiri/publication/26543790/figure/fig1/AS:310045121236994@1450931925958/A-schematic-diagram-of-the-support-vector-regression-using-e-sensitive-loss-function.png\" width=\"350px\" height=\"180px\" />\n",
        "\n",
        "\n",
        "# <font color= #8A0829> Laboratorio de Modelado de Datos </font>\n",
        "#### <font color= #2E9AFE> `Martes y Viernes (Videoconferencia) de 13:00 - 15:00 hrs`</font>\n",
        "- <Strong> Judith Alejandra Hinojosa Rábago </Strong>\n",
        "- <Strong> Año </Strong>: 2022\n",
        "- <Strong> Email: </Strong>  <font color=\"blue\"> `judith.hinojosa@iteso.mx` </font>\n",
        "___\n",
        "\n",
        "<p style=\"text-align:right;\"> Imagen recuperada de: https://www.researchgate.net/profile/Sandip-Lahiri/publication/26543790/figure/fig1/AS:310045121236994@1450931925958/A-schematic-diagram-of-the-support-vector-regression-using-e-sensitive-loss-function.png</p>\n",
        "\n",
        "### <font color= #2E9AFE> Tema:Máquinas de Soporte Vectorial basadas en Regresión (SVR)</font>"
      ]
    },
    {
      "cell_type": "markdown",
      "metadata": {
        "id": "gmqm-llUM1kL"
      },
      "source": [
        "**¿Qué es?**\n",
        "\n",
        "- Es un algoritmo de regresión que soporta tanto problemas lineales como no lineales. \n",
        "\n",
        "- La técnica de los vectores soporte es una herramienta universal para resolver problemas de estimación de funciones multidimensionales. \n",
        "\n",
        "- La idea es seleccionar el hiperplano regresor que mejor se ajuste a nuestro conjunto de datos de entrenamiento. \n",
        "\n",
        "- Se basa en considerar una distancia margen $\\varepsilon$, de modo que esperamos que todos los datos se encuentren en una banda o tubo entorno a nuestro hiperplano. A la hora de definir el hiperplano sólo se consideran los datos que tengan una distancia más de $\\varepsilon$ de nuestro hiperplano. En este caso esos datos serán los considerados como vectores soporte.\n",
        "\n",
        "**Diferencia regresión simple y SVR**\n",
        "\n",
        "En la regresión simple, se busca minimizar la tasa del error, mientras que en el SVR se busca ajustar el error dentro de cierto umbral, lo que significa que el trabajo del SVR es aproximar el mejor valor dentro de un margen dado llamado \"e-tubo\". \n",
        "\n",
        "<img style=\"float: center; margin: 0px 0px 15px 15px;\" src=\"https://www.mdpi.com/applsci/applsci-10-03086/article_deploy/html/images/applsci-10-03086-g004.png\" width=\"450px\" height=\"280px\" />\n",
        "\n",
        "**Algunos términos**\n",
        "\n",
        "1. Hiperplano: es la línea que ayuda a predecir la variable target\n",
        "2. Kernel: En el SVR, la regresión se realiza en una dimensión superior. Para hacer eso, necesitamos una función que debería asignar los puntos de datos a su dimensión superior. Esta función se denomina kernel. \n",
        "3. Líneas de soporte: estas son las dos líneas que se dibujan alrededor del hiperplano a una distancia de ε (épsilon). Se utiliza para crear un margen entre los puntos de datos.\n",
        "4. Vector de soporte: Es el vector que se utiliza para definir el hiperplano o podemos decir que estos son los puntos de datos extremos en el conjunto de datos que ayudan a definir el hiperplano. Estos puntos de datos se encuentran cerca del límite."
      ]
    },
    {
      "cell_type": "markdown",
      "metadata": {
        "id": "Nkpz_Uc2M1kN"
      },
      "source": [
        "**El truco del Kernel**\n",
        "\n",
        "No todos los datos son linealmente separables, casi todos los datos están aleatoriamente distribuidos, lo cual hace difícil separar linealmente los datos. \n",
        "\n",
        "<img style=\"float: center; margin: 0px 0px 15px 15px;\" src=\"https://miro.medium.com/max/838/1*gXvhD4IomaC9Jb37tzDUVg.png\" width=\"450px\" height=\"280px\" />\n",
        "\n",
        "En escencia, lo que hace el truco del kernel es ofrecer una manera más eficiente y menos costosa de aumentar la dimensionalidad de los datos. \n",
        "\n",
        "**Algunos tipos de kernel**\n",
        "- Lineal\n",
        "$$K(x,x*)=x \\cdot x^{*}$$\n",
        "- Polinomial \n",
        "$$K(x,x*)=(x \\cdot x^{*} +1)^{d}$$\n",
        "- Gaussian Radial Basis \n",
        "$$K(x,x*)=\\exp^{-\\frac{\\|x-x^{*}\\|^{2}}{2\\sigma^{2}}}$$\n",
        "\n",
        "**Se deben cumplir varias cosas para obtener el resultado óptimo:**\n",
        "\n",
        "- Este algoritmo funciona muy bien si se tienen los datos limpios. Si los datos están muy dispersos no se podrá crear una fórmula adecuada. Se recomienda estandarizar los datos previamente. \n",
        "- No es adecuado para conjuntos de datos grandes. Lleva mucho tiempo el entrenamiento\n",
        "- Menos efectivo en conjuntos de datos con columnas superpuestas\n",
        "\n",
        "**Hiperparámetros del SVR**\n",
        "- C\n",
        "- La variable que uses en el kernel\n",
        "- Epsilon"
      ]
    },
    {
      "cell_type": "code",
      "source": [
        "from google.colab import drive\n",
        "drive.mount('/content/drive')"
      ],
      "metadata": {
        "colab": {
          "base_uri": "https://localhost:8080/"
        },
        "id": "O1sbxQQS4u1s",
        "outputId": "44019904-2c1d-4c88-aa43-664d85e8ae30"
      },
      "execution_count": 1,
      "outputs": [
        {
          "output_type": "stream",
          "name": "stdout",
          "text": [
            "Mounted at /content/drive\n"
          ]
        }
      ]
    },
    {
      "cell_type": "code",
      "source": [
        "%cd /content/drive/MyDrive/ITESO/LABORATORIO DE MODELADO DE DATOS"
      ],
      "metadata": {
        "colab": {
          "base_uri": "https://localhost:8080/"
        },
        "id": "I46dq8Y35VwZ",
        "outputId": "b90aa9c1-1266-4fe6-d027-3873f2ecea52"
      },
      "execution_count": 2,
      "outputs": [
        {
          "output_type": "stream",
          "name": "stdout",
          "text": [
            "/content/drive/MyDrive/ITESO/LABORATORIO DE MODELADO DE DATOS\n"
          ]
        }
      ]
    },
    {
      "cell_type": "code",
      "execution_count": 3,
      "metadata": {
        "id": "4_xsnCE7M1kP"
      },
      "outputs": [],
      "source": [
        "import numpy as np\n",
        "from sklearn.svm import SVR\n",
        "import matplotlib.pyplot as plt\n",
        "from sklearn.metrics.pairwise import (linear_kernel,polynomial_kernel,rbf_kernel)"
      ]
    },
    {
      "cell_type": "code",
      "execution_count": 4,
      "metadata": {
        "colab": {
          "base_uri": "https://localhost:8080/",
          "height": 497
        },
        "id": "SoEKLCZBM1kS",
        "outputId": "c7859293-b447-467a-995d-ad4a20d5c45a"
      },
      "outputs": [
        {
          "output_type": "display_data",
          "data": {
            "text/plain": [
              "<Figure size 576x576 with 1 Axes>"
            ],
            "image/png": "[encoded data removed]"
          },
          "metadata": {
            "needs_background": "light"
          }
        }
      ],
      "source": [
        "#%% generacion de los datos\n",
        "rng = np.random.RandomState(0)\n",
        "\n",
        "# #############################################################################\n",
        "# Generar datos\n",
        "X = 5 * rng.rand(100, 1)\n",
        "y = np.ravel(3*X+2)\n",
        "# Añadir ruido a las variables\n",
        "yrnd = y + 3 * (0.5 - rng.rand(X.shape[0]))\n",
        "yrnd[::20] += 50 * (0.5 - rng.rand(X.shape[0]//20))\n",
        "\n",
        "X_plot = np.linspace(0, 5, len(X))[:, None]\n",
        "\n",
        "#Graficar datos\n",
        "plt.figure(figsize=(8,8))\n",
        "plt.scatter(X, y, c='b', label='data')\n",
        "plt.scatter(X, yrnd, c='r', s=10, label='data rnd',zorder=2)\n",
        "plt.xlabel('data')\n",
        "plt.ylabel('target')\n",
        "plt.legend()\n",
        "plt.show()"
      ]
    },
    {
      "cell_type": "code",
      "execution_count": 5,
      "metadata": {
        "colab": {
          "base_uri": "https://localhost:8080/",
          "height": 497
        },
        "id": "O7VArRKkM1kU",
        "outputId": "06f396b9-8737-4a73-f528-3870e702a7e9"
      },
      "outputs": [
        {
          "output_type": "display_data",
          "data": {
            "text/plain": [
              "<Figure size 576x576 with 1 Axes>"
            ],
            "image/png": "[encoded data removed]"
          },
          "metadata": {
            "needs_background": "light"
          }
        }
      ],
      "source": [
        "#Comparar con regresión lineal\n",
        "from sklearn.linear_model import LinearRegression\n",
        "\n",
        "modelo_lin = LinearRegression().fit(X,yrnd)\n",
        "Ylin_plot = modelo_lin.predict(X_plot)\n",
        "\n",
        "plt.figure(figsize=(8,8))\n",
        "plt.scatter(X, y, c='b', s=10, label='data')\n",
        "plt.scatter(X, yrnd, c='r', s=10, label='data rnd',zorder=2)\n",
        "plt.scatter(X_plot, Ylin_plot, c='g', s=10, label='lineal',zorder=2)\n",
        "plt.xlabel('data')\n",
        "plt.ylabel('target')\n",
        "plt.legend()\n",
        "plt.show()"
      ]
    },
    {
      "cell_type": "code",
      "execution_count": 6,
      "metadata": {
        "colab": {
          "base_uri": "https://localhost:8080/",
          "height": 497
        },
        "id": "ldlKFbSTM1kX",
        "outputId": "3ea3a9b0-6828-422a-d43d-3fad3e470cea"
      },
      "outputs": [
        {
          "output_type": "display_data",
          "data": {
            "text/plain": [
              "<Figure size 576x576 with 1 Axes>"
            ],
            "image/png": "[encoded data removed]"
          },
          "metadata": {
            "needs_background": "light"
          }
        }
      ],
      "source": [
        "#¿Cómo se vería con el svr?\n",
        "epsilon = 0.1\n",
        "model_svr = SVR(kernel='linear', epsilon=epsilon)\n",
        "model_svr.fit(X,yrnd)\n",
        "Ysvr_plot = model_svr.predict(X_plot)\n",
        "\n",
        "plt.figure(figsize=(8,8))\n",
        "plt.scatter(X, y, c='b', s=10, label='data')\n",
        "plt.scatter(X, yrnd, c='r', s=10, label='data rnd',zorder=2)\n",
        "plt.scatter(X_plot, Ylin_plot, c='g', s=10, label='lineal',zorder=2)\n",
        "plt.scatter(X_plot, Ysvr_plot, c='m', s=10, label='svr',zorder=2)\n",
        "plt.xlabel('data')\n",
        "plt.ylabel('target')\n",
        "plt.legend()\n",
        "plt.show()\n"
      ]
    },
    {
      "cell_type": "markdown",
      "metadata": {
        "id": "weIPGENOM1kX"
      },
      "source": [
        "La línea del SVR (rosa) se acerca mucho a los valores sin ruido (azul) y tiene más inmunidad a los outliers, esto ocurre por la función de costo. Un valor grande (outlier) ya no se eleva al cuadrado, osea que sólo se afecta de forma lineal. \n"
      ]
    },
    {
      "cell_type": "code",
      "execution_count": 7,
      "metadata": {
        "colab": {
          "base_uri": "https://localhost:8080/"
        },
        "id": "tVngU9iPM1kY",
        "outputId": "b9636b25-03c0-4840-e491-33a8135282fb"
      },
      "outputs": [
        {
          "output_type": "execute_result",
          "data": {
            "text/plain": [
              "(100, 1)"
            ]
          },
          "metadata": {},
          "execution_count": 7
        }
      ],
      "source": [
        "#Dimensión de los datos originales\n",
        "np.shape(X)"
      ]
    },
    {
      "cell_type": "code",
      "execution_count": 8,
      "metadata": {
        "colab": {
          "base_uri": "https://localhost:8080/"
        },
        "id": "fhpzrd5MM1ka",
        "outputId": "7e38313e-cfb4-4b7f-8e28-106ea1112d2d"
      },
      "outputs": [
        {
          "output_type": "execute_result",
          "data": {
            "text/plain": [
              "(100, 100)"
            ]
          },
          "metadata": {},
          "execution_count": 8
        }
      ],
      "source": [
        "#dimensión de los datos después de la transformación del kernel\n",
        "\n",
        "K_X =  linear_kernel(X)\n",
        "#K_X =  polynomial_kernel(X)\n",
        "#K_X =  rbf_kernel(X)\n",
        "\n",
        "np.shape(K_X)"
      ]
    },
    {
      "cell_type": "markdown",
      "metadata": {
        "id": "xBjjph-aM1ka"
      },
      "source": [
        "#### Train Test Split"
      ]
    },
    {
      "cell_type": "code",
      "execution_count": 9,
      "metadata": {
        "id": "UTVt-iouM1kb"
      },
      "outputs": [],
      "source": [
        "from sklearn.model_selection import train_test_split\n",
        "\n",
        "X_train, X_test, y_train, y_test = train_test_split(X, yrnd, test_size=0.20,\n",
        "                                                    random_state=0,\n",
        "                                                    shuffle=True)"
      ]
    },
    {
      "cell_type": "code",
      "execution_count": 10,
      "metadata": {
        "id": "OKKEgzyRM1kc"
      },
      "outputs": [],
      "source": [
        "#Escalamiento de los datos\n",
        "from sklearn.preprocessing import StandardScaler\n",
        "sc_X = StandardScaler()\n",
        "sc_y = StandardScaler()\n",
        "X_train = sc_X.fit_transform(X_train)\n",
        "X_test = sc_X.fit_transform(X_test)"
      ]
    },
    {
      "cell_type": "code",
      "execution_count": 11,
      "metadata": {
        "colab": {
          "base_uri": "https://localhost:8080/"
        },
        "id": "0UalyvW1M1kd",
        "outputId": "b84d6ecf-b2f9-4ed7-9d50-8da5b4f181b1"
      },
      "outputs": [
        {
          "output_type": "stream",
          "name": "stdout",
          "text": [
            "R2 = 0.8852\n",
            "MSE 2.4541154598428827\n"
          ]
        }
      ],
      "source": [
        "#SVR\n",
        "epsilon = 0.1\n",
        "#Kernel Lineal\n",
        "model_svr = SVR(kernel='linear', epsilon=epsilon)\n",
        "#Kernel Radial\n",
        "#model_svr = SVR(kernel='rbf', epsilon=epsilon)\n",
        "\n",
        "#Entreno los datos con el train\n",
        "model_svr.fit(X_train,y_train)\n",
        "\n",
        "#Predicciones contra el test\n",
        "Ypred = model_svr.predict(X_test)\n",
        "\n",
        "#R2\n",
        "print('R2 = %0.4f'%model_svr.score(X_test,y_test))\n",
        "\n",
        "#MSE\n",
        "from sklearn.metrics import mean_squared_error\n",
        "print('MSE',mean_squared_error(y_test,Ypred))"
      ]
    },
    {
      "cell_type": "markdown",
      "metadata": {
        "id": "DEUlXoRwM1ke"
      },
      "source": [
        "#### Cross validation"
      ]
    },
    {
      "cell_type": "code",
      "execution_count": 12,
      "metadata": {
        "colab": {
          "base_uri": "https://localhost:8080/"
        },
        "id": "DqJIO00vM1kf",
        "outputId": "1b89a270-b738-447a-c460-999135453fa9"
      },
      "outputs": [
        {
          "output_type": "stream",
          "name": "stdout",
          "text": [
            "{'C': 1000, 'gamma': 0.0001, 'kernel': 'rbf'}\n"
          ]
        }
      ],
      "source": [
        "#Usando cross validation y grid search\n",
        "from sklearn.model_selection import GridSearchCV\n",
        "\n",
        "tuned_parameters = [{'kernel': ['rbf'], 'gamma': [1e-3, 1e-4],\n",
        "                     'C': [1, 10, 100, 1000]},\n",
        "                    {'kernel': ['linear'], 'C': [1, 10, 100, 1000]}]\n",
        "\n",
        "model = SVR()\n",
        "\n",
        "gs = GridSearchCV(model,\n",
        "                  tuned_parameters, \n",
        "                  cv=2,\n",
        "                  scoring='neg_mean_squared_error')\n",
        "\n",
        "gs.fit(X_train, y_train)\n",
        "\n",
        "print(gs.best_params_)"
      ]
    },
    {
      "cell_type": "code",
      "execution_count": 13,
      "metadata": {
        "colab": {
          "base_uri": "https://localhost:8080/"
        },
        "id": "uVV_2xnJM1kg",
        "outputId": "db6e81a4-9fd2-4229-fcae-74c29afc7b5b"
      },
      "outputs": [
        {
          "output_type": "execute_result",
          "data": {
            "text/plain": [
              "SVR(C=1000, gamma=0.0001)"
            ]
          },
          "metadata": {},
          "execution_count": 13
        }
      ],
      "source": [
        "#crear modelo usando parámetros óptimos\n",
        "new_model = SVR(kernel='rbf', C=1000, gamma=0.0001)\n",
        "new_model.fit(X_train, y_train)"
      ]
    },
    {
      "cell_type": "code",
      "execution_count": 14,
      "metadata": {
        "colab": {
          "base_uri": "https://localhost:8080/"
        },
        "id": "VqzJI2ZrM1ki",
        "outputId": "61caaea2-4845-4818-a136-91c89ac5289b"
      },
      "outputs": [
        {
          "output_type": "stream",
          "name": "stdout",
          "text": [
            "R2: 0.8670322755589956\n"
          ]
        }
      ],
      "source": [
        "#R2\n",
        "from sklearn.metrics import r2_score\n",
        "yhat = new_model.predict(X_test)\n",
        "R2_score = r2_score(y_test,yhat)\n",
        "print('R2:', R2_score)\n"
      ]
    },
    {
      "cell_type": "code",
      "execution_count": 15,
      "metadata": {
        "colab": {
          "base_uri": "https://localhost:8080/"
        },
        "id": "7zgzD_irM1kj",
        "outputId": "d66fa803-0e61-4042-94e1-c206e2f9f6a2"
      },
      "outputs": [
        {
          "output_type": "stream",
          "name": "stdout",
          "text": [
            "MSE: 2.8428521494890417\n"
          ]
        }
      ],
      "source": [
        "#MSE\n",
        "from sklearn.metrics import mean_squared_error\n",
        "MSE_score = mean_squared_error(y_test,yhat)\n",
        "print('MSE:', MSE_score)"
      ]
    },
    {
      "cell_type": "markdown",
      "metadata": {
        "id": "0J9bBoTsM1kj"
      },
      "source": [
        "**Ventajas**\n",
        "\n",
        "- Es más efectivo para espacios de alta multidimensional\n",
        "- Es efectivo en los cuasos cuando el número de variables es mayor al número de filas. \n",
        "- Es relativamente eficiente usando memoria computacional. \n",
        "- Es robusto ante datos atípicos\n",
        "- Su implementación es fácil\n",
        "\n",
        "**Desventajas**\n",
        "\n",
        "- No es buen algoritmo para grandes datasets\n",
        "- Periodos de entrenamiento largos. Requieren más tiempo de entrenamiento. "
      ]
    },
    {
      "cell_type": "markdown",
      "metadata": {
        "id": "asq8H5V1M1kk"
      },
      "source": [
        "**¿Cuál de los siguientes ejemplos podemos aplicar el algoritmo de SVR?**\n",
        "\n",
        "- Opción 1: Predecir la temperatura de un lugar específico de acuerdo a los datos históricos\n",
        "- Opción 2: Predecir si una acción de la bolsa de valores va a subir o bajar, utilizando los datos históricos\n",
        "- Opción 3: Predecir la distancia en que un auto se detiene de acuerdo a la velocidad del mismo"
      ]
    }
  ],
  "metadata": {
    "kernelspec": {
      "display_name": "Python 3 (ipykernel)",
      "language": "python",
      "name": "python3"
    },
    "language_info": {
      "codemirror_mode": {
        "name": "ipython",
        "version": 3
      },
      "file_extension": ".py",
      "mimetype": "text/x-python",
      "name": "python",
      "nbconvert_exporter": "python",
      "pygments_lexer": "ipython3",
      "version": "3.9.7"
    },
    "colab": {
      "provenance": []
    }
  },
  "nbformat": 4,
  "nbformat_minor": 0
}