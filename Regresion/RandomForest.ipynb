{
  "cells": [
    {
      "cell_type": "markdown",
      "metadata": {
        "id": "0mkglZzkld4y"
      },
      "source": [
        "___\n",
        "<img style=\"float: right; margin: 0px 0px 15px 15px;\" src=\"https://miro.medium.com/max/1400/1*ZFuMI_HrI3jt2Wlay73IUQ.png\" width=\"350px\" height=\"180px\" />\n",
        "\n",
        "\n",
        "# <font color= #8A0829> Laboratorio de Modelado de Datos </font>\n",
        "#### <font color= #2E9AFE> `Martes y Viernes (Videoconferencia) de 13:00 - 15:00 hrs`</font>\n",
        "- <Strong> Judith Alejandra Hinojosa Rábago </Strong>\n",
        "- <Strong> Año </Strong>: 2022\n",
        "- <Strong> Email: </Strong>  <font color=\"blue\"> `judith.hinojosa@iteso.mx` </font>\n",
        "___\n",
        "\n",
        "<p style=\"text-align:right;\"> Imagen recuperada de: https://miro.medium.com/max/1400/1*ZFuMI_HrI3jt2Wlay73IUQ.png</p>\n",
        "\n",
        "### <font color= #2E9AFE> Tema: Modelos basados en Árboles Parte II</font>"
      ]
    },
    {
      "cell_type": "markdown",
      "metadata": {
        "id": "CHvZsO7Old44"
      },
      "source": [
        "### Bosques Aleatorios\n",
        "\n",
        "\"Los árboles tienen un sólo aspecto que previene que sean la herramienta ideal para el aprendizaje predictivo, que es la **inexactitud**\" \n",
        "\n",
        "Pasos para crear un bosque aleatorio:\n",
        "- Crear un dataset \"bootstrapped\"\n",
        "- Crear un árbol de decisión usando el dataset \"bootstrapped\", pero sólo usar un subconjunto aleatorio de variables (o columnas) en cada paso. \n",
        "- Regresar al paso 1. y repetir \n",
        "\n",
        "Gracias al proceso de bootstrapping, el requerimento de dividir los datos en prueba y entrenamiento no es tan estricto. Se recomienda dividir los datos en prueba y entrenamiento cuando se quiere comparar su desempeño contra otros modelos. "
      ]
    },
    {
      "cell_type": "code",
      "execution_count": 3,
      "metadata": {
        "id": "cfRjns6wld45"
      },
      "outputs": [],
      "source": [
        "import numpy as np\n",
        "import matplotlib.pyplot as plt\n",
        "from sklearn.ensemble import RandomForestRegressor\n",
        "import time"
      ]
    },
    {
      "cell_type": "code",
      "execution_count": 4,
      "metadata": {
        "colab": {
          "base_uri": "https://localhost:8080/",
          "height": 223
        },
        "id": "F9BHCIzwld47",
        "outputId": "da9e27f4-9693-4541-be93-b028a24b259d"
      },
      "outputs": [
        {
          "output_type": "display_data",
          "data": {
            "text/plain": [
              "<Figure size 864x288 with 3 Axes>"
            ],
            "image/png": "[encoded data removed]"
          },
          "metadata": {
            "needs_background": "light"
          }
        }
      ],
      "source": [
        "#Generar datos\n",
        "rng = np.random.RandomState(0)\n",
        "\n",
        "# #############################################################################\n",
        "X = np.zeros((100,3))\n",
        "X[:,0] = 5 * rng.rand(100, 1)[:,0]-2.5\n",
        "X[:,1] = 10 * rng.rand(100, 1)[:,0]-5\n",
        "X[:,2] = 15 * rng.rand(100, 1)[:,0]-7.5\n",
        "\n",
        "y = np.ravel(3*X[:,0]-2*X[:,1]+3*X[:,2]-10)\n",
        "# Add noise to targets\n",
        "yrnd = y + 3 * (0.5 - rng.rand(y.shape[0]))\n",
        "\n",
        "\n",
        "plt.figure(figsize=(12,4))\n",
        "plt.subplot(131)\n",
        "plt.scatter(X[:,0], yrnd, c='r', s=10, label='Dataset S',zorder=2)\n",
        "plt.xlabel('x_p1')\n",
        "plt.ylabel('y')\n",
        "plt.legend()\n",
        "plt.grid()\n",
        "\n",
        "plt.subplot(132)\n",
        "plt.scatter(X[:,1], yrnd, c='r', s=10, label='Dataset S',zorder=2)\n",
        "plt.xlabel('x_p2')\n",
        "plt.ylabel('y')\n",
        "plt.legend()\n",
        "plt.grid()\n",
        "\n",
        "plt.subplot(133)\n",
        "plt.scatter(X[:,2], yrnd, c='r', s=10, label='Dataset S',zorder=2)\n",
        "plt.xlabel('x_p3')\n",
        "plt.ylabel('y')\n",
        "plt.legend()\n",
        "plt.grid()\n",
        "\n",
        "plt.tight_layout()\n",
        "plt.show()"
      ]
    },
    {
      "cell_type": "code",
      "execution_count": 5,
      "metadata": {
        "id": "3zBPEUWYld4-"
      },
      "outputs": [],
      "source": [
        "#Separar en train test split\n",
        "from sklearn.model_selection import train_test_split\n",
        "\n",
        "X_train, X_test, y_train, y_test = train_test_split(X, yrnd, test_size=0.20,\n",
        "                                                    random_state=0,\n",
        "                                                    shuffle=True)"
      ]
    },
    {
      "cell_type": "code",
      "execution_count": 6,
      "metadata": {
        "colab": {
          "base_uri": "https://localhost:8080/",
          "height": 534
        },
        "id": "iOWKrYlzld4-",
        "outputId": "0b9f69b3-1f29-4b1d-81af-353701d3150c"
      },
      "outputs": [
        {
          "output_type": "stream",
          "name": "stdout",
          "text": [
            "--- 0.4058551788330078 seconds ---\n",
            "R2 = 0.9516\n"
          ]
        },
        {
          "output_type": "display_data",
          "data": {
            "text/plain": [
              "<Figure size 576x576 with 1 Axes>"
            ],
            "image/png": "[encoded data removed]"
          },
          "metadata": {
            "needs_background": "light"
          }
        }
      ],
      "source": [
        "#construir y entrenar el árbol\n",
        "\n",
        "#construir el modelo\n",
        "model = RandomForestRegressor(n_estimators=100,#cuántos árboles queremos\n",
        "                               criterion='squared_error', \n",
        "                               max_depth=None, #si dejo None puede el árbol ir a su máxima profundidad -> overfitting\n",
        "                               min_samples_split=2, #cuántos datos se necesitan para que haga un split\n",
        "                               min_samples_leaf=1, #cuántos datos dejamos en la última hoja\n",
        "                               max_features='auto', #de variables que toma\n",
        "                               bootstrap=True, #¿que haga bootstrapping?\n",
        "                               oob_score=False, \n",
        "                               random_state=0,\n",
        "                               verbose=0)\n",
        "#calcular cuánto tarda\n",
        "start_time = time.time()\n",
        "\n",
        "#Entrenar el modelo\n",
        "model = model.fit(X_train,y_train) \n",
        "print(\"--- %s seconds ---\" % (time.time() - start_time))\n",
        "\n",
        "#predecir\n",
        "Yhat = model.predict(X_test)\n",
        "print('R2 = %0.4f'%model.score(X_test,y_test))\n",
        "\n",
        "plt.figure(figsize=(8,8))\n",
        "plt.scatter(y_test,Yhat,c='r',label='data-noise')\n",
        "plt.plot(np.linspace(min(y_test),max(y_test),100),np.linspace(min(y_test),max(y_test),100),'g--',label='fit')\n",
        "plt.xlabel('y_real')\n",
        "plt.ylabel('Y_estimated')\n",
        "plt.grid()\n",
        "plt.legend()\n",
        "plt.show()"
      ]
    },
    {
      "cell_type": "code",
      "execution_count": 7,
      "metadata": {
        "colab": {
          "base_uri": "https://localhost:8080/",
          "height": 1000
        },
        "id": "RTivCbTMld5A",
        "outputId": "21a9bafe-9e1d-412c-e0ee-43531e78557d"
      },
      "outputs": [
        {
          "output_type": "execute_result",
          "data": {
            "text/plain": [
              "[Text(0.5234704641350211, 0.95, 'X[2] <= 0.215\\nsquared_error = 288.592\\nsamples = 51\\nvalue = -8.471'),\n",
              " Text(0.27637130801687765, 0.85, 'X[2] <= -4.344\\nsquared_error = 92.597\\nsamples = 25\\nvalue = -23.744'),\n",
              " Text(0.1350210970464135, 0.75, 'X[1] <= -0.312\\nsquared_error = 71.765\\nsamples = 10\\nvalue = -31.559'),\n",
              " Text(0.06751054852320675, 0.65, 'X[1] <= -2.673\\nsquared_error = 8.496\\nsamples = 4\\nvalue = -21.022'),\n",
              " Text(0.03375527426160337, 0.55, 'X[0] <= 0.635\\nsquared_error = 2.158\\nsamples = 2\\nvalue = -18.836'),\n",
              " Text(0.016877637130801686, 0.45, 'squared_error = 0.0\\nsamples = 1\\nvalue = -20.914'),\n",
              " Text(0.05063291139240506, 0.45, 'squared_error = 0.0\\nsamples = 1\\nvalue = -17.797'),\n",
              " Text(0.10126582278481013, 0.55, 'X[2] <= -6.519\\nsquared_error = 0.089\\nsamples = 2\\nvalue = -24.3'),\n",
              " Text(0.08438818565400844, 0.45, 'squared_error = 0.0\\nsamples = 1\\nvalue = -24.002'),\n",
              " Text(0.11814345991561181, 0.45, 'squared_error = 0.0\\nsamples = 1\\nvalue = -24.598'),\n",
              " Text(0.20253164556962025, 0.65, 'X[1] <= 2.679\\nsquared_error = 20.123\\nsamples = 6\\nvalue = -36.828'),\n",
              " Text(0.16877637130801687, 0.55, 'X[1] <= 1.68\\nsquared_error = 0.352\\nsamples = 3\\nvalue = -33.572'),\n",
              " Text(0.1518987341772152, 0.45, 'X[2] <= -4.833\\nsquared_error = 0.015\\nsamples = 2\\nvalue = -32.738'),\n",
              " Text(0.1350210970464135, 0.35, 'squared_error = 0.0\\nsamples = 1\\nvalue = -32.859'),\n",
              " Text(0.16877637130801687, 0.35, 'squared_error = -0.0\\nsamples = 1\\nvalue = -32.617'),\n",
              " Text(0.18565400843881857, 0.45, 'squared_error = 0.0\\nsamples = 1\\nvalue = -33.988'),\n",
              " Text(0.23628691983122363, 0.55, 'X[2] <= -6.355\\nsquared_error = 10.016\\nsamples = 3\\nvalue = -41.712'),\n",
              " Text(0.21940928270042195, 0.45, 'squared_error = 0.0\\nsamples = 1\\nvalue = -44.797'),\n",
              " Text(0.25316455696202533, 0.45, 'X[0] <= -2.027\\nsquared_error = 0.997\\nsamples = 2\\nvalue = -38.627'),\n",
              " Text(0.23628691983122363, 0.35, 'squared_error = 0.0\\nsamples = 1\\nvalue = -39.626'),\n",
              " Text(0.270042194092827, 0.35, 'squared_error = -0.0\\nsamples = 1\\nvalue = -37.629'),\n",
              " Text(0.4177215189873418, 0.75, 'X[1] <= 2.93\\nsquared_error = 32.692\\nsamples = 15\\nvalue = -18.162'),\n",
              " Text(0.38396624472573837, 0.65, 'X[0] <= 2.301\\nsquared_error = 17.02\\nsamples = 13\\nvalue = -15.696'),\n",
              " Text(0.3670886075949367, 0.55, 'X[2] <= -2.286\\nsquared_error = 9.868\\nsamples = 12\\nvalue = -16.416'),\n",
              " Text(0.3206751054852321, 0.45, 'X[2] <= -2.964\\nsquared_error = 6.615\\nsamples = 5\\nvalue = -18.304'),\n",
              " Text(0.3037974683544304, 0.35, 'X[2] <= -3.818\\nsquared_error = 0.946\\nsamples = 4\\nvalue = -16.9'),\n",
              " Text(0.2869198312236287, 0.25, 'squared_error = 0.0\\nsamples = 1\\nvalue = -18.228'),\n",
              " Text(0.3206751054852321, 0.25, 'X[0] <= -1.094\\nsquared_error = 0.096\\nsamples = 3\\nvalue = -16.236'),\n",
              " Text(0.3037974683544304, 0.15, 'squared_error = 0.0\\nsamples = 1\\nvalue = -15.94'),\n",
              " Text(0.33755274261603374, 0.15, 'X[0] <= 0.654\\nsquared_error = 0.015\\nsamples = 2\\nvalue = -16.533'),\n",
              " Text(0.3206751054852321, 0.05, 'squared_error = 0.0\\nsamples = 1\\nvalue = -16.411'),\n",
              " Text(0.35443037974683544, 0.05, 'squared_error = 0.0\\nsamples = 1\\nvalue = -16.655'),\n",
              " Text(0.33755274261603374, 0.35, 'squared_error = -0.0\\nsamples = 1\\nvalue = -22.513'),\n",
              " Text(0.41350210970464135, 0.45, 'X[1] <= 0.856\\nsquared_error = 4.859\\nsamples = 7\\nvalue = -14.259'),\n",
              " Text(0.37130801687763715, 0.35, 'X[0] <= -0.178\\nsquared_error = 0.452\\nsamples = 2\\nvalue = -11.38'),\n",
              " Text(0.35443037974683544, 0.25, 'squared_error = 0.0\\nsamples = 1\\nvalue = -10.708'),\n",
              " Text(0.3881856540084388, 0.25, 'squared_error = 0.0\\nsamples = 1\\nvalue = -12.052'),\n",
              " Text(0.45569620253164556, 0.35, 'X[0] <= -0.337\\nsquared_error = 1.982\\nsamples = 5\\nvalue = -15.41'),\n",
              " Text(0.4219409282700422, 0.25, 'X[2] <= -0.077\\nsquared_error = 0.81\\nsamples = 2\\nvalue = -16.941'),\n",
              " Text(0.4050632911392405, 0.15, 'squared_error = 0.0\\nsamples = 1\\nvalue = -17.841'),\n",
              " Text(0.4388185654008439, 0.15, 'squared_error = -0.0\\nsamples = 1\\nvalue = -16.04'),\n",
              " Text(0.48945147679324896, 0.25, 'X[0] <= 0.721\\nsquared_error = 0.16\\nsamples = 3\\nvalue = -14.389'),\n",
              " Text(0.47257383966244726, 0.15, 'X[1] <= 1.605\\nsquared_error = 0.024\\nsamples = 2\\nvalue = -14.121'),\n",
              " Text(0.45569620253164556, 0.05, 'squared_error = 0.0\\nsamples = 1\\nvalue = -14.274'),\n",
              " Text(0.48945147679324896, 0.05, 'squared_error = 0.0\\nsamples = 1\\nvalue = -13.967'),\n",
              " Text(0.5063291139240507, 0.15, 'squared_error = 0.0\\nsamples = 1\\nvalue = -14.926'),\n",
              " Text(0.4008438818565401, 0.55, 'squared_error = -0.0\\nsamples = 1\\nvalue = -4.902'),\n",
              " Text(0.45147679324894513, 0.65, 'X[1] <= 3.903\\nsquared_error = 1.126\\nsamples = 2\\nvalue = -26.053'),\n",
              " Text(0.4345991561181435, 0.55, 'squared_error = 0.0\\nsamples = 1\\nvalue = -28.175'),\n",
              " Text(0.46835443037974683, 0.55, 'squared_error = 0.0\\nsamples = 1\\nvalue = -25.522'),\n",
              " Text(0.7705696202531646, 0.85, 'X[2] <= 5.441\\nsquared_error = 101.932\\nsamples = 26\\nvalue = 4.025'),\n",
              " Text(0.6086497890295358, 0.75, 'X[1] <= -1.64\\nsquared_error = 64.852\\nsamples = 18\\nvalue = -0.274'),\n",
              " Text(0.5189873417721519, 0.65, 'X[1] <= -2.837\\nsquared_error = 22.664\\nsamples = 3\\nvalue = 9.511'),\n",
              " Text(0.5021097046413502, 0.55, 'squared_error = 0.0\\nsamples = 1\\nvalue = 16.224'),\n",
              " Text(0.5358649789029536, 0.55, 'X[1] <= -2.09\\nsquared_error = 0.197\\nsamples = 2\\nvalue = 6.154'),\n",
              " Text(0.5189873417721519, 0.45, 'squared_error = 0.0\\nsamples = 1\\nvalue = 5.841'),\n",
              " Text(0.5527426160337553, 0.45, 'squared_error = 0.0\\nsamples = 1\\nvalue = 6.782'),\n",
              " Text(0.6983122362869199, 0.65, 'X[0] <= -0.945\\nsquared_error = 26.913\\nsamples = 15\\nvalue = -4.277'),\n",
              " Text(0.620253164556962, 0.55, 'X[2] <= 1.532\\nsquared_error = 3.775\\nsamples = 4\\nvalue = -11.381'),\n",
              " Text(0.5864978902953587, 0.45, 'X[0] <= -1.624\\nsquared_error = 0.311\\nsamples = 2\\nvalue = -9.61'),\n",
              " Text(0.569620253164557, 0.35, 'squared_error = 0.0\\nsamples = 1\\nvalue = -9.052'),\n",
              " Text(0.6033755274261603, 0.35, 'squared_error = 0.0\\nsamples = 1\\nvalue = -10.168'),\n",
              " Text(0.6540084388185654, 0.45, 'X[2] <= 3.128\\nsquared_error = 0.962\\nsamples = 2\\nvalue = -13.153'),\n",
              " Text(0.6371308016877637, 0.35, 'squared_error = 0.0\\nsamples = 1\\nvalue = -14.134'),\n",
              " Text(0.6708860759493671, 0.35, 'squared_error = 0.0\\nsamples = 1\\nvalue = -12.172'),\n",
              " Text(0.7763713080168776, 0.55, 'X[2] <= 4.374\\nsquared_error = 18.348\\nsamples = 11\\nvalue = -2.699'),\n",
              " Text(0.7215189873417721, 0.45, 'X[1] <= 3.688\\nsquared_error = 9.175\\nsamples = 8\\nvalue = -4.13'),\n",
              " Text(0.7046413502109705, 0.35, 'X[2] <= 2.19\\nsquared_error = 3.224\\nsamples = 7\\nvalue = -3.139'),\n",
              " Text(0.6455696202531646, 0.25, 'X[2] <= 0.781\\nsquared_error = 2.079\\nsamples = 3\\nvalue = -1.663'),\n",
              " Text(0.6286919831223629, 0.15, 'squared_error = 0.0\\nsamples = 1\\nvalue = -4.85'),\n",
              " Text(0.6624472573839663, 0.15, 'X[2] <= 1.618\\nsquared_error = 0.056\\nsamples = 2\\nvalue = -1.025'),\n",
              " Text(0.6455696202531646, 0.05, 'squared_error = 0.0\\nsamples = 1\\nvalue = -1.314'),\n",
              " Text(0.679324894514768, 0.05, 'squared_error = -0.0\\nsamples = 1\\nvalue = -0.833'),\n",
              " Text(0.7637130801687764, 0.25, 'X[1] <= 2.528\\nsquared_error = 0.738\\nsamples = 4\\nvalue = -4.404'),\n",
              " Text(0.729957805907173, 0.15, 'X[2] <= 2.569\\nsquared_error = 0.11\\nsamples = 2\\nvalue = -3.794'),\n",
              " Text(0.7130801687763713, 0.05, 'squared_error = 0.0\\nsamples = 1\\nvalue = -4.369'),\n",
              " Text(0.7468354430379747, 0.05, 'squared_error = 0.0\\nsamples = 1\\nvalue = -3.602'),\n",
              " Text(0.7974683544303798, 0.15, 'X[0] <= 0.089\\nsquared_error = 0.415\\nsamples = 2\\nvalue = -5.218'),\n",
              " Text(0.7805907172995781, 0.05, 'squared_error = 0.0\\nsamples = 1\\nvalue = -6.129'),\n",
              " Text(0.8143459915611815, 0.05, 'squared_error = -0.0\\nsamples = 1\\nvalue = -4.763'),\n",
              " Text(0.7383966244725738, 0.35, 'squared_error = 0.0\\nsamples = 1\\nvalue = -10.57'),\n",
              " Text(0.8312236286919831, 0.45, 'X[2] <= 5.1\\nsquared_error = 2.794\\nsamples = 3\\nvalue = 4.455'),\n",
              " Text(0.8143459915611815, 0.35, 'X[2] <= 4.718\\nsquared_error = 0.084\\nsamples = 2\\nvalue = 5.626'),\n",
              " Text(0.7974683544303798, 0.25, 'squared_error = 0.0\\nsamples = 1\\nvalue = 5.335'),\n",
              " Text(0.8312236286919831, 0.25, 'squared_error = -0.0\\nsamples = 1\\nvalue = 5.916'),\n",
              " Text(0.8481012658227848, 0.35, 'squared_error = -0.0\\nsamples = 1\\nvalue = 2.115'),\n",
              " Text(0.9324894514767933, 0.75, 'X[0] <= 1.172\\nsquared_error = 41.132\\nsamples = 8\\nvalue = 14.279'),\n",
              " Text(0.8987341772151899, 0.65, 'X[2] <= 6.134\\nsquared_error = 11.759\\nsamples = 6\\nvalue = 10.821'),\n",
              " Text(0.8818565400843882, 0.55, 'squared_error = 0.0\\nsamples = 1\\nvalue = 15.903'),\n",
              " Text(0.9156118143459916, 0.55, 'X[2] <= 6.921\\nsquared_error = 5.631\\nsamples = 5\\nvalue = 9.369'),\n",
              " Text(0.8987341772151899, 0.45, 'X[2] <= 6.852\\nsquared_error = 2.532\\nsamples = 4\\nvalue = 8.132'),\n",
              " Text(0.8818565400843882, 0.35, 'X[2] <= 6.751\\nsquared_error = 1.104\\nsamples = 3\\nvalue = 8.774'),\n",
              " Text(0.8649789029535865, 0.25, 'X[2] <= 6.666\\nsquared_error = 0.181\\nsamples = 2\\nvalue = 8.206'),\n",
              " Text(0.8481012658227848, 0.15, 'squared_error = 0.0\\nsamples = 1\\nvalue = 8.808'),\n",
              " Text(0.8818565400843882, 0.15, 'squared_error = 0.0\\nsamples = 1\\nvalue = 7.905'),\n",
              " Text(0.8987341772151899, 0.25, 'squared_error = -0.0\\nsamples = 1\\nvalue = 10.478'),\n",
              " Text(0.9156118143459916, 0.35, 'squared_error = -0.0\\nsamples = 1\\nvalue = 5.564'),\n",
              " Text(0.9324894514767933, 0.45, 'squared_error = 0.0\\nsamples = 1\\nvalue = 12.46'),\n",
              " Text(0.9662447257383966, 0.65, 'X[0] <= 2.013\\nsquared_error = 19.764\\nsamples = 2\\nvalue = 22.06'),\n",
              " Text(0.9493670886075949, 0.55, 'squared_error = 0.0\\nsamples = 1\\nvalue = 26.506'),\n",
              " Text(0.9831223628691983, 0.55, 'squared_error = -0.0\\nsamples = 1\\nvalue = 17.615')]"
            ]
          },
          "metadata": {},
          "execution_count": 7
        },
        {
          "output_type": "display_data",
          "data": {
            "text/plain": [
              "<Figure size 432x288 with 1 Axes>"
            ],
            "image/png": "[encoded data removed]"
          },
          "metadata": {
            "needs_background": "light"
          }
        }
      ],
      "source": [
        "# si yo quisiera ver sólo un árbol\n",
        "#no se puede imprimir todo el árbol aleatorio\n",
        "from sklearn import tree\n",
        "tree.plot_tree(model.estimators_[0]) "
      ]
    },
    {
      "cell_type": "code",
      "execution_count": 8,
      "metadata": {
        "id": "lAPPWZvkld5B"
      },
      "outputs": [],
      "source": [
        "#Buscar un número bueno de árboles a usar de forma visual\n",
        "ntrees = np.arange(1,100,5)\n",
        "R2_s = np.zeros(len(ntrees))\n",
        "for n in range(len(ntrees)):\n",
        "    model = RandomForestRegressor(n_estimators=ntrees[n],\n",
        "                               criterion='squared_error',\n",
        "                               max_depth=None,\n",
        "                               min_samples_split=2,\n",
        "                               min_samples_leaf=1,\n",
        "                               max_features='auto',\n",
        "                               bootstrap=True,\n",
        "                               oob_score=False,\n",
        "                               random_state=0,\n",
        "                               verbose=0)\n",
        "    model = model.fit(X_train,y_train)\n",
        "    R2_s[n] = model.score(X_train,y_train)"
      ]
    },
    {
      "cell_type": "code",
      "execution_count": 9,
      "metadata": {
        "colab": {
          "base_uri": "https://localhost:8080/",
          "height": 497
        },
        "id": "I_lRwa_vld5C",
        "outputId": "8ced5f1c-5c58-4583-bdfc-05f12284d99a"
      },
      "outputs": [
        {
          "output_type": "display_data",
          "data": {
            "text/plain": [
              "<Figure size 576x576 with 1 Axes>"
            ],
            "image/png": "[encoded data removed]"
          },
          "metadata": {
            "needs_background": "light"
          }
        }
      ],
      "source": [
        "plt.figure(figsize=(8,8))\n",
        "plt.scatter(ntrees,R2_s,c='r',label='ntrees')\n",
        "plt.ylabel('R^2')\n",
        "plt.xlabel('Trees')\n",
        "plt.grid()\n",
        "plt.legend()\n",
        "plt.show()"
      ]
    },
    {
      "cell_type": "code",
      "execution_count": 10,
      "metadata": {
        "colab": {
          "base_uri": "https://localhost:8080/"
        },
        "id": "tyhjtUG4ld5D",
        "outputId": "0989c26e-6e29-41b0-b9e8-a3e2fb1155f3"
      },
      "outputs": [
        {
          "output_type": "stream",
          "name": "stdout",
          "text": [
            "{'max_depth': 7, 'min_samples_split': 10, 'n_estimators': 61}\n"
          ]
        }
      ],
      "source": [
        "#Usando cross validation y grid search\n",
        "from sklearn.model_selection import GridSearchCV\n",
        "\n",
        "model = RandomForestRegressor(criterion='squared_error',\n",
        "                               min_samples_leaf=1,\n",
        "                               max_features='auto',\n",
        "                               bootstrap=True,\n",
        "                               oob_score=False,\n",
        "                               random_state=0,\n",
        "                               verbose=0)\n",
        "\n",
        "gs = GridSearchCV(model,\n",
        "                  param_grid = {'max_depth': range(1, 11),\n",
        "                                'min_samples_split': range(10, 60, 10),\n",
        "                                'n_estimators': range(1,100,10)}, \n",
        "                  cv=2,\n",
        "                  scoring='neg_mean_squared_error')\n",
        "\n",
        "gs.fit(X_train, y_train)\n",
        "\n",
        "print(gs.best_params_)"
      ]
    },
    {
      "cell_type": "code",
      "execution_count": 11,
      "metadata": {
        "colab": {
          "base_uri": "https://localhost:8080/"
        },
        "id": "YnClnn_fld5E",
        "outputId": "de8a4d43-629e-4b73-d17f-bba6f2534a76"
      },
      "outputs": [
        {
          "output_type": "execute_result",
          "data": {
            "text/plain": [
              "RandomForestRegressor(max_depth=7, min_samples_split=10, n_estimators=61,\n",
              "                      random_state=0)"
            ]
          },
          "metadata": {},
          "execution_count": 11
        }
      ],
      "source": [
        "#crear modelo usando parámetros óptimos\n",
        "new_model = RandomForestRegressor(n_estimators=61,\n",
        "                               criterion='squared_error',\n",
        "                               max_depth=7,\n",
        "                               min_samples_split=10,\n",
        "                               min_samples_leaf=1,\n",
        "                               max_features='auto',\n",
        "                               bootstrap=True,\n",
        "                               oob_score=False,\n",
        "                               random_state=0,\n",
        "                               verbose=0)\n",
        "new_model.fit(X_train, y_train)"
      ]
    },
    {
      "cell_type": "code",
      "execution_count": 12,
      "metadata": {
        "colab": {
          "base_uri": "https://localhost:8080/"
        },
        "id": "9X15guzYld5F",
        "outputId": "fce4bda6-067c-4b3d-b9ac-f29269c05410"
      },
      "outputs": [
        {
          "output_type": "stream",
          "name": "stdout",
          "text": [
            "R2: 0.9202848292377214\n"
          ]
        }
      ],
      "source": [
        "from sklearn.metrics import r2_score\n",
        "yhat = new_model.predict(X_test)\n",
        "R2_score = r2_score(y_test,yhat)\n",
        "print('R2:', R2_score)"
      ]
    },
    {
      "cell_type": "code",
      "execution_count": 13,
      "metadata": {
        "colab": {
          "base_uri": "https://localhost:8080/"
        },
        "id": "U6YpXsNDld5F",
        "outputId": "f3e01792-6c67-47ae-9ab7-44e5dbe6f3bb"
      },
      "outputs": [
        {
          "output_type": "stream",
          "name": "stdout",
          "text": [
            "MSE: 25.280677135402996\n"
          ]
        }
      ],
      "source": [
        "from sklearn.metrics import mean_squared_error\n",
        "MSE_score = mean_squared_error(y_test,yhat)\n",
        "print('MSE:', MSE_score)"
      ]
    },
    {
      "cell_type": "code",
      "execution_count": 14,
      "metadata": {
        "colab": {
          "base_uri": "https://localhost:8080/"
        },
        "id": "8CnM_kYild5G",
        "outputId": "47c26ead-cb80-41b9-c5f5-0ea9a314df2b"
      },
      "outputs": [
        {
          "output_type": "execute_result",
          "data": {
            "text/plain": [
              "array([0.04461806, 0.07544492, 0.87993702])"
            ]
          },
          "metadata": {},
          "execution_count": 14
        }
      ],
      "source": [
        "new_model.feature_importances_"
      ]
    },
    {
      "cell_type": "markdown",
      "metadata": {
        "id": "At_EB-1kld5G"
      },
      "source": [
        "**Ventajas**\n",
        "\n",
        "- Son muy buenos generalizando\n",
        "- Protejen en contra del sobreajuste (overfitting) gracias a la construcción del bootstrapping \n",
        "- También reducen la varianza y por lo tanto mejoran la precisión del modelo\n",
        "- Funcionan muy bien con variables categóricas y variables continuas\n",
        "- No se requiere escalamiento previo de variables \n",
        "- Manejan muy bien el hecho de que haya datos nulos\n",
        "- Son modelos robustos ante valores atípicos (outliers)\n",
        "- Son algoritmos muy estables, cuando hay datos nuevos, el algoritmo no se ve muy afectado. Ya que este nuevo dato puede afectar a un árbol individual, pero es difícil que impacte a todos los árboles. \n",
        "\n",
        "**Desventajas**\n",
        "\n",
        "- Complejidad. Los bosques aleatorios crean muchos árboles y combina sus resultados. Requiere mucho poder computacional y recursos \n",
        "- Periodos de entrenamiento largos. Requieren más tiempo de entrenamiento. "
      ]
    }
  ],
  "metadata": {
    "kernelspec": {
      "display_name": "Python 3 (ipykernel)",
      "language": "python",
      "name": "python3"
    },
    "language_info": {
      "codemirror_mode": {
        "name": "ipython",
        "version": 3
      },
      "file_extension": ".py",
      "mimetype": "text/x-python",
      "name": "python",
      "nbconvert_exporter": "python",
      "pygments_lexer": "ipython3",
      "version": "3.9.7"
    },
    "colab": {
      "provenance": []
    }
  },
  "nbformat": 4,
  "nbformat_minor": 0
}