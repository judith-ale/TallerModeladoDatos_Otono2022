{
  "cells": [
    {
      "cell_type": "markdown",
      "metadata": {
        "id": "CeZV80XqFlrw"
      },
      "source": [
        "___\n",
        "<img style=\"float: right; margin: 0px 0px 15px 15px;\" src=\"https://static.wixstatic.com/media/aa08c3_4431b1d1a196452bb094eb2f08d4c4eb.png/v1/fit/w_620%2Ch_277%2Cal_c/file.png\" width=\"350px\" height=\"180px\" />\n",
        "\n",
        "\n",
        "# <font color= #8A0829> Laboratorio de Modelado de Datos </font>\n",
        "#### <font color= #2E9AFE> `Martes y Viernes (Videoconferencia) de 13:00 - 15:00 hrs`</font>\n",
        "- <Strong> Judith Alejandra Hinojosa Rábago </Strong>\n",
        "- <Strong> Año </Strong>: 2022\n",
        "- <Strong> Email: </Strong>  <font color=\"blue\"> `judith.hinojosa@iteso.mx` </font>\n",
        "___\n",
        "\n",
        "<p style=\"text-align:right;\"> Imagen recuperada de: https://static.wixstatic.com/media/aa08c3_4431b1d1a196452bb094eb2f08d4c4eb.png/v1/fit/w_620%2Ch_277%2Cal_c/file.png</p>\n",
        "\n",
        "### <font color= #2E9AFE> Tema: Regresión Lineal</font>"
      ]
    },
    {
      "cell_type": "markdown",
      "metadata": {
        "id": "icsGWyMgFlry"
      },
      "source": [
        "La regresión es una técnica de aprendizaje supervisado que busca encontrar relación entre variables. \n",
        "Un problema de regresión es cuando la variable de salida es discreta o continuar. \n",
        "\n",
        "**¿Qué vamos a ver?**\n",
        "1. Qué es regresión?\n",
        "2. Cuál es el promedio de la regresión lineal y cuál es la importancia de la regresión?\n",
        "3. Impacto de distintos valores para la tasa de aprendizaje\n",
        "4. Implementar en Python"
      ]
    },
    {
      "cell_type": "markdown",
      "metadata": {
        "id": "HeBM15V2Flr0"
      },
      "source": [
        "**¿Qué es la regresión?**\n",
        "\n",
        "La regresión muestra una línea o curva que pasa por todos los puntos de datos en un gráfico de tal manera que la distancia vertical entre los puntos de datos y la línea de regresión es la mínima. \n",
        "\n",
        "Se usa principalmente para predicción pero también es muy usada para determinar la relación causa-efecto de las variables. \n",
        "\n",
        "Si hay una sola variable de entrada (x), dicha regresión lineal se denomina *regresión lineal simple*. Y si hay más de una variable de entrada, dicha regresión lineal se denomina *regresión lineal múltiple*.\n"
      ]
    },
    {
      "cell_type": "code",
      "source": [
        "from google.colab import drive\n",
        "drive.mount('/content/drive')"
      ],
      "metadata": {
        "colab": {
          "base_uri": "https://localhost:8080/"
        },
        "id": "O1sbxQQS4u1s",
        "outputId": "3de2e52c-f9d7-4cc4-d4d8-cd76ed0ccf4c"
      },
      "execution_count": 1,
      "outputs": [
        {
          "output_type": "stream",
          "name": "stdout",
          "text": [
            "Mounted at /content/drive\n"
          ]
        }
      ]
    },
    {
      "cell_type": "code",
      "source": [
        "%cd /content/drive/MyDrive/ITESO/LABORATORIO DE MODELADO DE DATOS"
      ],
      "metadata": {
        "colab": {
          "base_uri": "https://localhost:8080/"
        },
        "id": "I46dq8Y35VwZ",
        "outputId": "613143ef-6758-409d-b630-ea5a782f7d4e"
      },
      "execution_count": 2,
      "outputs": [
        {
          "output_type": "stream",
          "name": "stdout",
          "text": [
            "/content/drive/MyDrive/ITESO/LABORATORIO DE MODELADO DE DATOS\n"
          ]
        }
      ]
    },
    {
      "cell_type": "code",
      "execution_count": 3,
      "metadata": {
        "colab": {
          "base_uri": "https://localhost:8080/",
          "height": 279
        },
        "id": "E_gUB_d2Flr2",
        "outputId": "d043c66c-8b24-40bd-f81e-33fed4378951"
      },
      "outputs": [
        {
          "output_type": "display_data",
          "data": {
            "text/plain": [
              "<Figure size 432x288 with 1 Axes>"
            ],
            "image/png": "[encoded data removed]"
          },
          "metadata": {
            "needs_background": "light"
          }
        }
      ],
      "source": [
        "#Relación lineal positiva\n",
        "import matplotlib.pyplot as plt\n",
        "\n",
        "edad = [0.25, 0.5, 0.75, 1, 1.25, 1.5, 2, 3, 4, 5, 6, 7, 8]\n",
        "peso = [5.6, 7.3, 8.9, 9.5, 11, 11.5, 12.4, 14.4, 15.5, 17.4, 19.6, 21.2, 23.5]\n",
        "plt.scatter(edad, peso)\n",
        "plt.xlabel(\"Edad\")\n",
        "plt.ylabel(\"Peso\")\n",
        "plt.show()"
      ]
    },
    {
      "cell_type": "code",
      "execution_count": 4,
      "metadata": {
        "colab": {
          "base_uri": "https://localhost:8080/",
          "height": 279
        },
        "id": "GacfI_WoFlr4",
        "outputId": "8dbad9f5-f267-4bfc-da47-5b91d979ff81"
      },
      "outputs": [
        {
          "output_type": "display_data",
          "data": {
            "text/plain": [
              "<Figure size 432x288 with 1 Axes>"
            ],
            "image/png": "[encoded data removed]"
          },
          "metadata": {
            "needs_background": "light"
          }
        }
      ],
      "source": [
        "#Relacion lineal negativa\n",
        "import matplotlib.pyplot as plt\n",
        "\n",
        "Minutos = [6, 9, 12, 11, 4, 9, 2, 17, 2, 7, 8, 7, 5]\n",
        "Velocidad = [99, 86, 87, 88, 111, 86, 103, 87, 94, 78, 77, 85, 86]\n",
        "plt.scatter(Velocidad, Minutos)\n",
        "plt.xlabel(\"Velocidad\")\n",
        "plt.ylabel(\"Minutos\")\n",
        "plt.show()"
      ]
    },
    {
      "cell_type": "markdown",
      "metadata": {
        "id": "uxTQD49KFlr6"
      },
      "source": [
        "El gráfico presenta la relación lineal entre la variable dependiente (Y) y la variables independiente (X). Cuando el valor de x aumenta, el valor de y disminuye. \n",
        "\n",
        "Para calcular la línea que mejor se ajusta, la regresión lineal usa la forma tradicional de pendiente e intercepto:\n",
        "$$y=mx+b \\rightarrow y=a_{0}+a_{1}x$$\n",
        "\n",
        "- y= Variable dependiente\n",
        "- x = Variable independiente\n",
        "- $a_{0}$ = Intercepto de la línea\n",
        "- $a_{1}$ = Coeficiente de regresión lineal"
      ]
    },
    {
      "cell_type": "code",
      "execution_count": 5,
      "metadata": {
        "id": "alKrO3hjFlr8"
      },
      "outputs": [],
      "source": [
        "#Graficamos la línea ajustada de la regresión lineal\n",
        "from scipy import stats\n",
        "pendiente, intercepto, r, p, std_err = stats.linregress(Velocidad, Minutos)"
      ]
    },
    {
      "cell_type": "code",
      "execution_count": 6,
      "metadata": {
        "colab": {
          "base_uri": "https://localhost:8080/"
        },
        "id": "T9rMXZmVFlr-",
        "outputId": "eb39ea36-dab1-4e97-8877-43aef0194337"
      },
      "outputs": [
        {
          "output_type": "execute_result",
          "data": {
            "text/plain": [
              "-0.20564683142344337"
            ]
          },
          "metadata": {},
          "execution_count": 6
        }
      ],
      "source": [
        "pendiente"
      ]
    },
    {
      "cell_type": "code",
      "execution_count": 7,
      "metadata": {
        "colab": {
          "base_uri": "https://localhost:8080/"
        },
        "id": "DLaFnDShFlr_",
        "outputId": "2ff1b0b9-cfff-48db-d8d3-f2d30b571a2a"
      },
      "outputs": [
        {
          "output_type": "execute_result",
          "data": {
            "text/plain": [
              "26.076142482396804"
            ]
          },
          "metadata": {},
          "execution_count": 7
        }
      ],
      "source": [
        "intercepto"
      ]
    },
    {
      "cell_type": "code",
      "execution_count": 8,
      "metadata": {
        "colab": {
          "base_uri": "https://localhost:8080/"
        },
        "id": "yxH_rCCRFlsB",
        "outputId": "1075e0f1-ed1a-408d-bb19-008598e4ae35"
      },
      "outputs": [
        {
          "output_type": "execute_result",
          "data": {
            "text/plain": [
              "5.717106171475912"
            ]
          },
          "metadata": {},
          "execution_count": 8
        }
      ],
      "source": [
        "#Calculando a mano la primer predicción\n",
        "y_pred1 = -0.20564683142344337*99 +26.076142482396804\n",
        "y_pred1"
      ]
    },
    {
      "cell_type": "code",
      "execution_count": 9,
      "metadata": {
        "colab": {
          "base_uri": "https://localhost:8080/",
          "height": 265
        },
        "id": "UT1FbNjSFlsC",
        "outputId": "80594c65-3656-49ca-a9c1-856015ee7236"
      },
      "outputs": [
        {
          "output_type": "display_data",
          "data": {
            "text/plain": [
              "<Figure size 432x288 with 1 Axes>"
            ],
            "image/png": "[encoded data removed]"
          },
          "metadata": {
            "needs_background": "light"
          }
        }
      ],
      "source": [
        "def linReg(x):\n",
        "  return pendiente * x + intercepto\n",
        "\n",
        "mymodel = list(map(linReg, Velocidad))\n",
        "\n",
        "plt.scatter(Velocidad, Minutos)\n",
        "plt.plot(Velocidad, mymodel, 'r')\n",
        "plt.show()"
      ]
    },
    {
      "cell_type": "markdown",
      "metadata": {
        "id": "ZbonH1JPFlsD"
      },
      "source": [
        "La línea roja se conoce como la línea recta de mejor ajuste. Con base en los puntos de datos dados, intentamos trazar una línea que modele mejor los puntos."
      ]
    },
    {
      "cell_type": "code",
      "execution_count": 10,
      "metadata": {
        "colab": {
          "base_uri": "https://localhost:8080/"
        },
        "id": "QS8p6o5aFlsF",
        "outputId": "90c89a83-e995-4d0d-847c-4cd38c25e74d"
      },
      "outputs": [
        {
          "output_type": "execute_result",
          "data": {
            "text/plain": [
              "[6, 9, 12, 11, 4, 9, 2, 17, 2, 7, 8, 7, 5]"
            ]
          },
          "metadata": {},
          "execution_count": 10
        }
      ],
      "source": [
        "Minutos"
      ]
    },
    {
      "cell_type": "code",
      "execution_count": 11,
      "metadata": {
        "colab": {
          "base_uri": "https://localhost:8080/"
        },
        "id": "-f6xqhw6FlsF",
        "outputId": "dbe21e6b-2781-4c3f-b6f0-0dfb1847d969"
      },
      "outputs": [
        {
          "output_type": "execute_result",
          "data": {
            "text/plain": [
              "[5.717106171475912,\n",
              " 8.390514979980676,\n",
              " 8.184868148557232,\n",
              " 7.9792213171337885,\n",
              " 3.2493441943945918,\n",
              " 8.390514979980676,\n",
              " 4.894518845782137,\n",
              " 8.184868148557232,\n",
              " 6.745340328593127,\n",
              " 10.035689631368221,\n",
              " 10.241336462791665,\n",
              " 8.59616181140412,\n",
              " 8.390514979980676]"
            ]
          },
          "metadata": {},
          "execution_count": 11
        }
      ],
      "source": [
        "mymodel"
      ]
    },
    {
      "cell_type": "markdown",
      "metadata": {
        "id": "jO3GN7enFlsF"
      },
      "source": [
        "#### Funcion de costo\n",
        "\n",
        "La función de costo ayuda a determinar los mejores valores posibles para a0 (intercepto) y a1 (pendiente), lo que proporciona la línea de mejor ajuste para los puntos de datos.\n",
        "\n",
        "La función de costo optimiza los coeficientes de regresión y mide cómo se está desempeñando un modelo de regresión lineal.\n",
        "\n",
        "En la regresión lineal, se utiliza la función de costo del error cuadrático medio (MSE), que es el promedio del error cuadrático que se produjo entre los valores predichos y los valores reales.\n",
        "\n",
        "$$MSE = \\frac{1}{N}\\sum_{i=1}^{n}(y_{i}-(mx_{i}+b))^{2}$$"
      ]
    },
    {
      "cell_type": "markdown",
      "metadata": {
        "id": "o__EX2DcFlsG"
      },
      "source": [
        "#### Gradiente Descendente\n",
        "\n",
        "Es un método que va actualizando a0 y a1 para minimizar la función de costo (MSE). \n",
        "\n",
        "Un modelo de regresión usa el gradiente descendiente para actualizar los coeficientes de la línea al reducir la función de costo mediante una selección aleatoria de valores de coeficientes y luego actualizar iterativamente los valores para alcanzar la función de costo mínimo.\n",
        "\n",
        "**Ejemplo**\n",
        "\n",
        "Tomaremos números aleatorios para crear la variable dependiente (salario) y una variable independiente (experiencia) y predeciremos el impacto de un año de experiencia en el salario."
      ]
    },
    {
      "cell_type": "code",
      "execution_count": 12,
      "metadata": {
        "colab": {
          "base_uri": "https://localhost:8080/",
          "height": 281
        },
        "id": "bZFGjqbwFlsH",
        "outputId": "2da84ec2-e44c-4624-e82f-6e1335101161"
      },
      "outputs": [
        {
          "output_type": "display_data",
          "data": {
            "text/plain": [
              "<Figure size 432x288 with 1 Axes>"
            ],
            "image/png": "[encoded data removed]"
          },
          "metadata": {
            "needs_background": "light"
          }
        }
      ],
      "source": [
        "import matplotlib.pyplot as plt\n",
        "import pandas as pd\n",
        "import numpy as np\n",
        "\n",
        "experiencia= np.array([2.4,5.0,1.5,3.8,8.7,3.6,1.2,8.1,2.5,5,1.6,1.6,2.4,3.9,5.4])\n",
        "salario = np.array([2.1,4.7,1.7,3.6,8.7,3.2,1.0,8.0,2.4,6,1.1,1.3,2.4,3.9,4.8])\n",
        "n = np.size(salario)\n",
        "plt.scatter(experiencia,salario, color = 'red')\n",
        "plt.xlabel(\"Experience\")\n",
        "plt.ylabel(\"Salary\")\n",
        "plt.show()"
      ]
    },
    {
      "cell_type": "markdown",
      "metadata": {
        "id": "LL5dyuHmFlsH"
      },
      "source": [
        "Calculando los coeficientes:\n",
        "\n",
        "1. Inicializar los parámetros\n",
        "2. Predecir la \"Y\" \n",
        "3. Calcule el error en la predicción para todos los puntos de datos.\n",
        "4. Calcule la derivada parcial de la función de costo contra a0 y a1.\n",
        "5. Calcula el costo de cada número y súmalos.\n",
        "6. Actualice los valores de a0 y a1."
      ]
    },
    {
      "cell_type": "code",
      "execution_count": 13,
      "metadata": {
        "colab": {
          "base_uri": "https://localhost:8080/"
        },
        "id": "cAmaD5xEFlsI",
        "outputId": "77e228bc-2981-473a-f9ce-6abfdc19f653"
      },
      "outputs": [
        {
          "output_type": "stream",
          "name": "stdout",
          "text": [
            "-0.21354150071690242\n",
            "1.0247464287610857\n"
          ]
        }
      ],
      "source": [
        "#Regresión lineal manualmente...\n",
        "#initializar parámetros\n",
        "a0 = 0                  #intercepto\n",
        "a1 = 0                  #pendiente\n",
        "lr = 0.0001             #tasa aprendizaje\n",
        "iterations = 1000       #número de iteraciones\n",
        "error = []              #calcular el costo para cada iteración.\n",
        "for itr in range(iterations):\n",
        "    error_cost = 0\n",
        "    cost_a0 = 0\n",
        "    cost_a1 = 0\n",
        "    for i in range(len(experiencia)):\n",
        "        y_pred = a0+a1*experiencia[i]   # predecir la Y para cada X dada\n",
        "        error_cost = error_cost +(salario[i]-y_pred)**2\n",
        "        for j in range(len(experiencia)):\n",
        "            partial_wrt_a0 = -2 *(salario[j] - (a0 + a1*experiencia[j]))                #derivada parcial de a0\n",
        "            partial_wrt_a1 = (-2*experiencia[j])*(salario[j]-(a0 + a1*experiencia[j]))   #derivada parcial de a1\n",
        "            cost_a0 = cost_a0 + partial_wrt_a0      #calcular el costo para número y sumar\n",
        "            cost_a1 = cost_a1 + partial_wrt_a1      #calcular el costo para número y sumar\n",
        "        a0 = a0 - lr * cost_a0    #actualizar a0\n",
        "        a1 = a1 - lr * cost_a1    #actualizar a1\n",
        "        error.append(error_cost)      #arreglo con los errores\n",
        "        \n",
        "print(a0)\n",
        "print(a1)"
      ]
    },
    {
      "cell_type": "code",
      "execution_count": 14,
      "metadata": {
        "colab": {
          "base_uri": "https://localhost:8080/"
        },
        "id": "PvN52OB-FlsJ",
        "outputId": "247bfe9a-9465-473b-8d25-ae94ebf37c27"
      },
      "outputs": [
        {
          "output_type": "execute_result",
          "data": {
            "text/plain": [
              "array([ 1.02474643, -0.2135415 ])"
            ]
          },
          "metadata": {},
          "execution_count": 14
        }
      ],
      "source": [
        "#con numpy\n",
        "experiencia1= np.squeeze(np.array(experiencia))\n",
        "salario1 =np.squeeze(np.array(salario))\n",
        "\n",
        "modelo_numpy = np.polyfit(experiencia1, salario1, 1)\n",
        "modelo_numpy"
      ]
    },
    {
      "cell_type": "code",
      "execution_count": 15,
      "metadata": {
        "colab": {
          "base_uri": "https://localhost:8080/"
        },
        "id": "wJSg4gpJFlsK",
        "outputId": "7d0b1bc8-fe91-4ee5-fae2-496beec1d199"
      },
      "outputs": [
        {
          "output_type": "stream",
          "name": "stdout",
          "text": [
            "[2.24584993 4.91019064 1.32357814 3.68049493 8.70175243 3.47554564\n",
            " 1.01615421 8.08690457 2.34832457 4.91019064 1.42605279 1.42605279\n",
            " 2.24584993 3.78296957 5.32008921]\n"
          ]
        }
      ],
      "source": [
        "#predecir el salario con los coeficientes que acabamos de encontrar\n",
        "pred = a0+a1*experiencia\n",
        "print(pred)"
      ]
    },
    {
      "cell_type": "code",
      "execution_count": 16,
      "metadata": {
        "colab": {
          "base_uri": "https://localhost:8080/"
        },
        "id": "NWnvlzZiFlsK",
        "outputId": "4551179a-2ad2-403b-e55f-5ea64b8a1536"
      },
      "outputs": [
        {
          "output_type": "execute_result",
          "data": {
            "text/plain": [
              "array([2.1, 4.7, 1.7, 3.6, 8.7, 3.2, 1. , 8. , 2.4, 6. , 1.1, 1.3, 2.4,\n",
              "       3.9, 4.8])"
            ]
          },
          "metadata": {},
          "execution_count": 16
        }
      ],
      "source": [
        "salario"
      ]
    },
    {
      "cell_type": "code",
      "execution_count": 17,
      "metadata": {
        "colab": {
          "base_uri": "https://localhost:8080/",
          "height": 299
        },
        "id": "FhJYLHh1FlsK",
        "outputId": "6e94304c-dbbe-488c-edea-4b578875053d"
      },
      "outputs": [
        {
          "output_type": "execute_result",
          "data": {
            "text/plain": [
              "Text(0, 0.5, 'salario')"
            ]
          },
          "metadata": {},
          "execution_count": 17
        },
        {
          "output_type": "display_data",
          "data": {
            "text/plain": [
              "<Figure size 432x288 with 1 Axes>"
            ],
            "image/png": "[encoded data removed]"
          },
          "metadata": {
            "needs_background": "light"
          }
        }
      ],
      "source": [
        "#graficamos\n",
        "plt.scatter(experiencia,salario,color = 'red')\n",
        "plt.plot(experiencia,pred, color = 'green')\n",
        "plt.xlabel(\"experiencia\")\n",
        "plt.ylabel(\"salario\")"
      ]
    },
    {
      "cell_type": "code",
      "execution_count": 18,
      "metadata": {
        "colab": {
          "base_uri": "https://localhost:8080/"
        },
        "id": "pyHK0kKSFlsL",
        "outputId": "fbdc9094-f0e4-4421-ce72-faabfd1b2f40"
      },
      "outputs": [
        {
          "output_type": "stream",
          "name": "stdout",
          "text": [
            "el error cuadrático medio (MSE) es: 0.12785817711928918\n"
          ]
        }
      ],
      "source": [
        "#qué tan bueno es mi modelo?\n",
        "\n",
        "#Error cuadrático medio\n",
        "error1 = salario - pred\n",
        "se = np.sum(error1 ** 2)\n",
        "mse = se/n\n",
        "print(\"el error cuadrático medio (MSE) es:\", mse)"
      ]
    },
    {
      "cell_type": "code",
      "execution_count": 19,
      "metadata": {
        "colab": {
          "base_uri": "https://localhost:8080/"
        },
        "id": "vwcNGJxqFlsM",
        "outputId": "5796272b-d6d3-4271-a029-cd2e97ee035c"
      },
      "outputs": [
        {
          "output_type": "stream",
          "name": "stdout",
          "text": [
            "la R2 es: 0.9763272358942761\n"
          ]
        }
      ],
      "source": [
        "#R2\n",
        "pred = np.poly1d(modelo_numpy)\n",
        "yhat = pred(experiencia)                       \n",
        "ybar = np.sum(salario)/len(salario)          \n",
        "sstot = np.sum((salario - ybar)**2) \n",
        "ssreg = np.sum((yhat-ybar)**2)  \n",
        "results = ssreg / sstot\n",
        "print(\"la R2 es:\", results)"
      ]
    },
    {
      "cell_type": "markdown",
      "metadata": {
        "id": "HOK9DVUGFlsM"
      },
      "source": [
        "No se preocupen... todo esto se puede hacer rápido en sklearn"
      ]
    },
    {
      "cell_type": "code",
      "execution_count": 20,
      "metadata": {
        "colab": {
          "base_uri": "https://localhost:8080/"
        },
        "id": "er34OrqPFlsN",
        "outputId": "e65330f8-e016-4cc3-d31e-73c79a559f39"
      },
      "outputs": [
        {
          "output_type": "stream",
          "name": "stdout",
          "text": [
            "pendiente [1.02474643]\n",
            "Intercepto -0.21354150071690547\n",
            "MSE 0.12785817711928915\n"
          ]
        }
      ],
      "source": [
        "from sklearn.linear_model import LinearRegression\n",
        "from sklearn.metrics import mean_squared_error, r2_score\n",
        "from sklearn.model_selection import train_test_split\n",
        "\n",
        "experiencia = experiencia.reshape(-1,1)\n",
        "model = LinearRegression()\n",
        "model.fit(experiencia,salario)\n",
        "salario_pred = model.predict(experiencia)\n",
        "Mse = mean_squared_error(salario, salario_pred)\n",
        "print('pendiente', model.coef_)\n",
        "print(\"Intercepto\", model.intercept_)\n",
        "print(\"MSE\", Mse)"
      ]
    },
    {
      "cell_type": "code",
      "execution_count": 21,
      "metadata": {
        "colab": {
          "base_uri": "https://localhost:8080/"
        },
        "id": "5dskOR67FlsN",
        "outputId": "a94f7f93-c7cd-4020-f8ad-0227d764b248"
      },
      "outputs": [
        {
          "output_type": "stream",
          "name": "stdout",
          "text": [
            "R2 0.976327235894276\n"
          ]
        }
      ],
      "source": [
        "r2 = r2_score(salario, salario_pred)\n",
        "print(\"R2\", r2)"
      ]
    },
    {
      "cell_type": "markdown",
      "metadata": {
        "id": "ivJBc1gYFlsO"
      },
      "source": [
        "**¿Cómo se interpreta?**\n",
        "\n",
        "*Los Coeficientes:* Por cada año extra que una persona trabaje (osea por cada año de experiencia), el salario aumenta en 1.024 \n",
        "\n",
        "*La R2:* La experiencia explica 97% de la variación del salario de la persona.  "
      ]
    },
    {
      "cell_type": "markdown",
      "metadata": {
        "id": "_a8XCDhCFlsO"
      },
      "source": [
        "Acuérdense de... todos los datos no los usamos! los de entrenamiento nada más para ajustar el modelo"
      ]
    },
    {
      "cell_type": "code",
      "execution_count": 23,
      "metadata": {
        "colab": {
          "base_uri": "https://localhost:8080/"
        },
        "id": "eB4xJtbdFlsO",
        "outputId": "398564b9-04d7-48ff-e4b5-03b7e86bf0c4"
      },
      "outputs": [
        {
          "output_type": "stream",
          "name": "stdout",
          "text": [
            "pendiente [1.04196502]\n",
            "Intercepto -0.22485091666851442\n",
            "MSE 0.12785817711928915\n"
          ]
        }
      ],
      "source": [
        "#test train split\n",
        "x_train, x_test, y_train, y_test = train_test_split(experiencia, salario, test_size=0.3, random_state=5)\n",
        "\n",
        "model = LinearRegression()\n",
        "\n",
        "model.fit(x_train, y_train)\n",
        "\n",
        "salario_pred = model.predict(x_test)\n",
        "\n",
        "mse = mean_squared_error(y_test, salario_pred)\n",
        "print('pendiente', model.coef_)\n",
        "print(\"Intercepto\", model.intercept_)\n",
        "print(\"MSE\", Mse)"
      ]
    },
    {
      "cell_type": "code",
      "execution_count": 24,
      "metadata": {
        "colab": {
          "base_uri": "https://localhost:8080/"
        },
        "id": "1cEy-s3OFlsO",
        "outputId": "4ddc14be-18f9-4288-b370-192c4022eb8c"
      },
      "outputs": [
        {
          "output_type": "stream",
          "name": "stdout",
          "text": [
            "R2 0.9841917969191505\n"
          ]
        }
      ],
      "source": [
        "#R^2\n",
        "r2 = r2_score(y_test, salario_pred)\n",
        "print(\"R2\", r2)"
      ]
    },
    {
      "cell_type": "code",
      "execution_count": 25,
      "metadata": {
        "colab": {
          "base_uri": "https://localhost:8080/"
        },
        "id": "s5wNEPgFFlsP",
        "outputId": "be208d73-291b-4214-9d5d-591f8aa5da0f"
      },
      "outputs": [
        {
          "output_type": "execute_result",
          "data": {
            "text/plain": [
              "array([20.61444944])"
            ]
          },
          "metadata": {},
          "execution_count": 25
        }
      ],
      "source": [
        "#Prediciendo cuánto debe ganar una persona con 20 años de experiencia\n",
        "nuevo_pred = model.predict([[20]])\n",
        "nuevo_pred"
      ]
    },
    {
      "cell_type": "code",
      "execution_count": 26,
      "metadata": {
        "colab": {
          "base_uri": "https://localhost:8080/"
        },
        "id": "XCZCaqynFlsP",
        "outputId": "f8b1fcd1-9310-4a57-cbc7-bd29feb233fa"
      },
      "outputs": [
        {
          "output_type": "stream",
          "name": "stdout",
          "text": [
            "0.09369849852903542\n"
          ]
        }
      ],
      "source": [
        "#cross validation\n",
        "from sklearn.model_selection import cross_val_score\n",
        "lm = LinearRegression()\n",
        "a = (-cross_val_score(lm, experiencia, salario, cv=10, scoring='neg_root_mean_squared_error')).mean()\n",
        "print(a**2)"
      ]
    },
    {
      "cell_type": "markdown",
      "metadata": {
        "id": "wTFwa4eEFlsR"
      },
      "source": [
        "\n",
        "### Regularización\n",
        "\n",
        "    Cuando tenemos sobreajuste tenemos alta varianza y bajo bias. Se aumenta el bias (peor en entrenamiento, sube el error) pero esto permite que en el test prediga mejor en el futuro.\n",
        "\n",
        "Es añadir un término de penalización a los coeficientes. Este tipo de modelos funciona muy bien cuando tenemos más de una variable predictora (X)\n",
        "\n",
        "#### Ridge Regression\n",
        "\n",
        "La regresión de Ridge ayuda a reducir la Varianza al reducir el tamaño de los parámetros y haciendo que nuestras predicciones sean menos sensibles a los parámetros. \n",
        "\n",
        "$$Ridge = \\sum_{i=1}^{n}(y_{i}-f(x_{i}))^{2}+\\lambda\\sum_{j=1}^{p}\\beta_{j}^{2}$$\n",
        "\n",
        "**¿Cuándo se recomienda usar?**\n",
        "Sobre todo cuando tenemos pocos datos, ya que la regresión de Ridge mejora las predicciones hechas con nuevos datos (reduce la varianza), haciendo que las predicciones sean menos sensibles a los datos de entrenamiento. "
      ]
    },
    {
      "cell_type": "code",
      "execution_count": 27,
      "metadata": {
        "colab": {
          "base_uri": "https://localhost:8080/"
        },
        "id": "eJvuBQpuFlsR",
        "outputId": "9db99481-c807-4a9a-f474-b81cb7e9e6e5"
      },
      "outputs": [
        {
          "output_type": "stream",
          "name": "stdout",
          "text": [
            "MSE 0.12876339410979126\n",
            "R2 0.9761596362243647\n"
          ]
        }
      ],
      "source": [
        "from sklearn.linear_model import Ridge\n",
        "clf = Ridge(alpha=1)\n",
        "clf.fit(experiencia,salario)\n",
        "salario_pred = clf.predict(experiencia)\n",
        "Mse = mean_squared_error(salario, salario_pred)\n",
        "r2 = r2_score(salario, salario_pred)\n",
        "print(\"MSE\", Mse)\n",
        "print(\"R2\", r2)"
      ]
    },
    {
      "cell_type": "code",
      "execution_count": 28,
      "metadata": {
        "colab": {
          "base_uri": "https://localhost:8080/"
        },
        "id": "dPOtZHyMFlsR",
        "outputId": "bd8db8c5-d314-4c87-d20a-a4a001dd40e4"
      },
      "outputs": [
        {
          "output_type": "stream",
          "name": "stdout",
          "text": [
            "MSE 0.08712333478470628\n",
            "R2 0.9857137388848376\n"
          ]
        }
      ],
      "source": [
        "#test train split\n",
        "X_train, X_test, y_train, y_test = train_test_split(experiencia, salario, test_size=0.3, random_state=5)\n",
        "model = Ridge(alpha=1)\n",
        "model.fit(X_train,y_train)\n",
        "salario_pred = model.predict(X_test)\n",
        "Mse = mean_squared_error(y_test, salario_pred)\n",
        "print(\"MSE\", Mse)\n",
        "r2 = r2_score(y_test, salario_pred)\n",
        "print(\"R2\", r2)"
      ]
    },
    {
      "cell_type": "code",
      "execution_count": 29,
      "metadata": {
        "colab": {
          "base_uri": "https://localhost:8080/"
        },
        "id": "lWqWvh3rFlsS",
        "outputId": "03e1e71d-5f6e-4efd-db4a-4e14c1ea2fc8"
      },
      "outputs": [
        {
          "output_type": "stream",
          "name": "stdout",
          "text": [
            "alfa: 0.430000\n",
            "MSE 0.14537064440575004\n"
          ]
        }
      ],
      "source": [
        "#Cross Validation\n",
        "from sklearn.linear_model import RidgeCV\n",
        "model = RidgeCV(alphas=np.arange(0.01,1,0.01), cv=10, scoring='neg_mean_squared_error') \n",
        "model.fit(experiencia, salario)\n",
        "print('alfa: %f' % model.alpha_)\n",
        "print('MSE',-model.best_score_)"
      ]
    },
    {
      "cell_type": "markdown",
      "metadata": {
        "id": "udNxx4R9FlsS"
      },
      "source": [
        "#### LASSO Regularization\n",
        "\n",
        "La ventaja de LASSO es que dentro de su proceso, hace que ciertos coeficientes se hagan cero y por lo tanto tiene un proceso de selección de variables interno. \n",
        "\n",
        "$$LASSO = \\sum_{i=1}^{n}(y_{i}-f(x_{i}))^{2}+\\lambda\\sum_{j=1}^{p}|\\beta_{j}|$$"
      ]
    },
    {
      "cell_type": "code",
      "execution_count": 30,
      "metadata": {
        "colab": {
          "base_uri": "https://localhost:8080/"
        },
        "id": "4ayieHBVFlsT",
        "outputId": "e9bbe978-261d-439f-bf31-5349876a148a"
      },
      "outputs": [
        {
          "output_type": "stream",
          "name": "stdout",
          "text": [
            "MSE 0.3269978935443322\n",
            "R2 0.9394567936806929\n"
          ]
        }
      ],
      "source": [
        "from sklearn.linear_model import Lasso\n",
        "clf = Lasso(alpha=1)\n",
        "clf.fit(experiencia,salario)\n",
        "salario_pred = clf.predict(experiencia)\n",
        "Mse = mean_squared_error(salario, salario_pred)\n",
        "r2 = r2_score(salario, salario_pred)\n",
        "print(\"MSE\", Mse)\n",
        "print(\"R2\", r2)"
      ]
    },
    {
      "cell_type": "code",
      "execution_count": 31,
      "metadata": {
        "colab": {
          "base_uri": "https://localhost:8080/"
        },
        "id": "fkhobppDFlsT",
        "outputId": "a7e8a491-0990-4744-e54c-7234e34b51d3"
      },
      "outputs": [
        {
          "output_type": "stream",
          "name": "stdout",
          "text": [
            "MSE 0.2731327194323607\n",
            "R2 0.955212396787295\n"
          ]
        }
      ],
      "source": [
        "#test train split\n",
        "X_train, X_test, y_train, y_test = train_test_split(experiencia, salario, test_size=0.3, random_state=5)\n",
        "model = Lasso(alpha=1)\n",
        "model.fit(X_train,y_train)\n",
        "salario_pred = model.predict(X_test)\n",
        "Mse = mean_squared_error(y_test, salario_pred)\n",
        "print(\"MSE\", Mse)\n",
        "r2 = r2_score(y_test, salario_pred)\n",
        "print(\"R2\", r2)"
      ]
    },
    {
      "cell_type": "code",
      "execution_count": 32,
      "metadata": {
        "colab": {
          "base_uri": "https://localhost:8080/"
        },
        "id": "xwo4lb4oFlsU",
        "outputId": "7258b29c-1c02-4207-a9ed-837d114548b7"
      },
      "outputs": [
        {
          "output_type": "stream",
          "name": "stdout",
          "text": [
            "lambda: 0.030000\n",
            "R2 0.9762940524962838\n"
          ]
        }
      ],
      "source": [
        "#Cross Validation\n",
        "from sklearn.linear_model import LassoCV\n",
        "model = LassoCV(alphas=np.arange(0.01,1,0.01), cv=10, random_state=5).fit(experiencia, salario) \n",
        "print('lambda: %f' % model.alpha_)\n",
        "print('R2',model.score(experiencia, salario))"
      ]
    },
    {
      "cell_type": "markdown",
      "metadata": {
        "id": "01j9FbVwFlsU"
      },
      "source": [
        "El cross validation de LASSO CV tiene por default la métrica de la $R^{2}$, se necesitaría usar otro método para calcular el MSE"
      ]
    },
    {
      "cell_type": "markdown",
      "metadata": {
        "id": "vWqvI5oXFlsU"
      },
      "source": [
        "**¿Cuándo las utilizo?**\n",
        "- Ridge es mejor cuando la mayoría de mis variables son útiles\n",
        "- LASSO excluye automáticamente variables inútiles del modelo"
      ]
    }
  ],
  "metadata": {
    "kernelspec": {
      "display_name": "Python 3 (ipykernel)",
      "language": "python",
      "name": "python3"
    },
    "language_info": {
      "codemirror_mode": {
        "name": "ipython",
        "version": 3
      },
      "file_extension": ".py",
      "mimetype": "text/x-python",
      "name": "python",
      "nbconvert_exporter": "python",
      "pygments_lexer": "ipython3",
      "version": "3.9.7"
    },
    "colab": {
      "provenance": []
    }
  },
  "nbformat": 4,
  "nbformat_minor": 0
}