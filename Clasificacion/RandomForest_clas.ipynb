{
  "cells": [
    {
      "cell_type": "markdown",
      "metadata": {
        "id": "GefPdz0WW1uK"
      },
      "source": [
        "___\n",
        "<img style=\"float: right; margin: 0px 0px 15px 15px;\" src=\"https://www.freecodecamp.org/news/content/images/2020/08/how-random-forest-classifier-work.PNG\" width=\"350px\" height=\"180px\" />\n",
        "\n",
        "\n",
        "# <font color= #8A0829> Laboratorio de Modelado de Datos </font>\n",
        "#### <font color= #2E9AFE> `Martes y Viernes (Videoconferencia) de 13:00 - 15:00 hrs`</font>\n",
        "- <Strong> Judith Alejandra Hinojosa Rábago </Strong>\n",
        "- <Strong> Año </Strong>: 2022\n",
        "- <Strong> Email: </Strong>  <font color=\"blue\"> `judith.hinojosa@iteso.mx` </font>\n",
        "___\n",
        "\n",
        "<p style=\"text-align:right;\"> Imagen recuperada de: https://www.freecodecamp.org/news/content/images/2020/08/how-random-forest-classifier-work.PNG</p>\n",
        "\n",
        "### <font color= #2E9AFE> Tema: Modelos basados en Árboles Parte II - Clasificación</font>"
      ]
    },
    {
      "cell_type": "markdown",
      "metadata": {
        "id": "JG_GmlNZW1uN"
      },
      "source": [
        "### Bosques Aleatorios\n",
        "\n",
        "\"Los árboles tienen un sólo aspecto que previene que sean la herramienta ideal para el aprendizaje predictivo, que es la **inexactitud**\" \n",
        "\n",
        "Pasos para crear un bosque aleatorio:\n",
        "- Crear un dataset \"bootstrapped\"\n",
        "- Crear un árbol de decisión usando el dataset \"bootstrapped\", pero sólo usar un subconjunto aleatorio de variables (o columnas) en cada paso. \n",
        "- Regresar al paso 1. y repetir \n",
        "\n",
        "Gracias al proceso de bootstrapping, el requerimento de dividir los datos en prueba y entrenamiento no es tan estricto. Se recomienda dividir los datos en prueba y entrenamiento cuando se quiere comparar su desempeño contra otros modelos. "
      ]
    },
    {
      "cell_type": "code",
      "source": [
        "from google.colab import drive\n",
        "drive.mount('/content/drive')"
      ],
      "metadata": {
        "colab": {
          "base_uri": "https://localhost:8080/"
        },
        "id": "O1sbxQQS4u1s",
        "outputId": "88161308-d8d4-4f55-b0f0-7ec93e1226ad"
      },
      "execution_count": 1,
      "outputs": [
        {
          "output_type": "stream",
          "name": "stdout",
          "text": [
            "Mounted at /content/drive\n"
          ]
        }
      ]
    },
    {
      "cell_type": "code",
      "source": [
        "%cd /content/drive/MyDrive/ITESO/LABORATORIO DE MODELADO DE DATOS"
      ],
      "metadata": {
        "colab": {
          "base_uri": "https://localhost:8080/"
        },
        "id": "I46dq8Y35VwZ",
        "outputId": "719e2319-23ab-4ced-89ac-5fa750474ae6"
      },
      "execution_count": 2,
      "outputs": [
        {
          "output_type": "stream",
          "name": "stdout",
          "text": [
            "/content/drive/MyDrive/ITESO/LABORATORIO DE MODELADO DE DATOS\n"
          ]
        }
      ]
    },
    {
      "cell_type": "code",
      "execution_count": 3,
      "metadata": {
        "id": "weEsTeXSW1uO"
      },
      "outputs": [],
      "source": [
        "import numpy as np\n",
        "import matplotlib.pyplot as plt\n",
        "from sklearn.ensemble import RandomForestClassifier\n",
        "from sklearn import datasets\n",
        "from sklearn.metrics import (accuracy_score,precision_score,recall_score)\n",
        "import time"
      ]
    },
    {
      "cell_type": "code",
      "execution_count": 4,
      "metadata": {
        "colab": {
          "base_uri": "https://localhost:8080/",
          "height": 297
        },
        "id": "oDydtyohW1uQ",
        "outputId": "225a7984-8014-4f37-e0e6-38cd618d710f"
      },
      "outputs": [
        {
          "output_type": "display_data",
          "data": {
            "text/plain": [
              "<Figure size 432x288 with 1 Axes>"
            ],
            "image/png": "[encoded data removed]"
          },
          "metadata": {
            "needs_background": "light"
          }
        }
      ],
      "source": [
        "#Importar la base de datos\n",
        "iris = datasets.load_iris()\n",
        "X = iris.data\n",
        "Y = iris.target\n",
        "\n",
        "plt.scatter(X[:,0],X[:,1], c=Y, s=10, cmap=plt.cm.rainbow,zorder=2)\n",
        "plt.xlabel('x_p1')\n",
        "plt.ylabel('x_p2')\n",
        "plt.grid()\n",
        "plt.tight_layout()\n",
        "plt.show()"
      ]
    },
    {
      "cell_type": "code",
      "execution_count": 10,
      "metadata": {
        "id": "e8-IHm5qW1uT"
      },
      "outputs": [],
      "source": [
        "from sklearn.model_selection import train_test_split\n",
        "\n",
        "X_train, X_test, y_train, y_test = train_test_split(X, Y, test_size=0.2,\n",
        "                                                    random_state=0,\n",
        "                                                    shuffle=True)"
      ]
    },
    {
      "cell_type": "code",
      "execution_count": 11,
      "metadata": {
        "colab": {
          "base_uri": "https://localhost:8080/"
        },
        "id": "dHJFkkBzW1uU",
        "outputId": "14ea2220-523e-43cb-e8d8-68c92cc1567d"
      },
      "outputs": [
        {
          "output_type": "stream",
          "name": "stdout",
          "text": [
            "--- 0.14015936851501465 seconds ---\n"
          ]
        },
        {
          "output_type": "stream",
          "name": "stderr",
          "text": [
            "[Parallel(n_jobs=1)]: Using backend SequentialBackend with 1 concurrent workers.\n",
            "[Parallel(n_jobs=1)]: Done 100 out of 100 | elapsed:    0.1s finished\n",
            "[Parallel(n_jobs=1)]: Using backend SequentialBackend with 1 concurrent workers.\n",
            "[Parallel(n_jobs=1)]: Done 100 out of 100 | elapsed:    0.0s finished\n"
          ]
        }
      ],
      "source": [
        "#%% Construccion y entrenamiento de la bolsa de modelos\n",
        "modelo = RandomForestClassifier(n_estimators=100,\n",
        "                               criterion='gini',\n",
        "                               max_depth=10,\n",
        "                               min_samples_split=2,\n",
        "                               min_samples_leaf=1,\n",
        "                               max_features='auto',\n",
        "                               bootstrap=True,\n",
        "                               oob_score=False,\n",
        "                               random_state=0,\n",
        "                               verbose=1)\n",
        "\n",
        "start_time = time.time()\n",
        "modelo = modelo.fit(X_train,y_train) # prediccion con la bolsa de modelos\n",
        "print(\"--- %s seconds ---\" % (time.time() - start_time))\n",
        "Yhat = modelo.predict(X_test)"
      ]
    },
    {
      "cell_type": "code",
      "execution_count": 12,
      "metadata": {
        "colab": {
          "base_uri": "https://localhost:8080/"
        },
        "id": "Cldx0ctQW1uV",
        "outputId": "fb38aa31-e55f-4ab7-bcb4-480a2c457e24"
      },
      "outputs": [
        {
          "output_type": "stream",
          "name": "stdout",
          "text": [
            "Accuracy\t Precision\t Recall\n",
            " 1.000\t 1.000\t 1.000\n"
          ]
        }
      ],
      "source": [
        "# Evaluacion del modelo\n",
        "accu = accuracy_score(y_test,Yhat)\n",
        "prec = precision_score(y_test,Yhat,average='weighted')\n",
        "reca = recall_score(y_test,Yhat,average='weighted')\n",
        "print('Accuracy\\t Precision\\t Recall\\n %0.3f\\t %0.3f\\t %0.3f'%(accu,prec,reca))"
      ]
    },
    {
      "cell_type": "code",
      "execution_count": 13,
      "metadata": {
        "colab": {
          "base_uri": "https://localhost:8080/",
          "height": 570
        },
        "id": "3u4I6pVqW1uV",
        "outputId": "cdd79790-4a30-4348-c073-2b54a44feee0"
      },
      "outputs": [
        {
          "output_type": "execute_result",
          "data": {
            "text/plain": [
              "[Text(0.4, 0.9, 'X[3] <= 0.75\\ngini = 0.643\\nsamples = 72\\nvalue = [42, 52, 26]'),\n",
              " Text(0.3, 0.7, 'gini = 0.0\\nsamples = 25\\nvalue = [42, 0, 0]'),\n",
              " Text(0.5, 0.7, 'X[2] <= 4.95\\ngini = 0.444\\nsamples = 47\\nvalue = [0, 52, 26]'),\n",
              " Text(0.2, 0.5, 'X[3] <= 1.65\\ngini = 0.109\\nsamples = 28\\nvalue = [0, 49, 3]'),\n",
              " Text(0.1, 0.3, 'gini = 0.0\\nsamples = 24\\nvalue = [0, 43, 0]'),\n",
              " Text(0.3, 0.3, 'X[1] <= 3.1\\ngini = 0.444\\nsamples = 4\\nvalue = [0, 6, 3]'),\n",
              " Text(0.2, 0.1, 'gini = 0.0\\nsamples = 3\\nvalue = [0, 0, 3]'),\n",
              " Text(0.4, 0.1, 'gini = 0.0\\nsamples = 1\\nvalue = [0, 6, 0]'),\n",
              " Text(0.8, 0.5, 'X[1] <= 3.05\\ngini = 0.204\\nsamples = 19\\nvalue = [0, 3, 23]'),\n",
              " Text(0.7, 0.3, 'X[3] <= 1.75\\ngini = 0.355\\nsamples = 8\\nvalue = [0, 3, 10]'),\n",
              " Text(0.6, 0.1, 'gini = 0.0\\nsamples = 2\\nvalue = [0, 3, 0]'),\n",
              " Text(0.8, 0.1, 'gini = 0.0\\nsamples = 6\\nvalue = [0, 0, 10]'),\n",
              " Text(0.9, 0.3, 'gini = 0.0\\nsamples = 11\\nvalue = [0, 0, 13]')]"
            ]
          },
          "metadata": {},
          "execution_count": 13
        },
        {
          "output_type": "display_data",
          "data": {
            "text/plain": [
              "<Figure size 432x288 with 1 Axes>"
            ],
            "image/png": "[encoded data removed]"
          },
          "metadata": {
            "needs_background": "light"
          }
        }
      ],
      "source": [
        "# si yo quisiera ver sólo un árbol\n",
        "#no se puede imprimir todo el árbol aleatorio\n",
        "from sklearn import tree\n",
        "tree.plot_tree(modelo.estimators_[0]) "
      ]
    },
    {
      "cell_type": "code",
      "execution_count": 14,
      "metadata": {
        "id": "mZZqpWuIW1uW"
      },
      "outputs": [],
      "source": [
        "#Buscar un número bueno de árboles a usar\n",
        "ntrees = np.arange(1,20,1)\n",
        "R2_s = np.zeros(len(ntrees))\n",
        "for n in range(len(ntrees)):\n",
        "    model = RandomForestClassifier(n_estimators=ntrees[n],\n",
        "                               criterion='gini',\n",
        "                               max_depth=None,\n",
        "                               min_samples_split=2,\n",
        "                               min_samples_leaf=1,\n",
        "                               max_features='auto',\n",
        "                               bootstrap=True,\n",
        "                               oob_score=False,\n",
        "                               random_state=0,\n",
        "                               verbose=0)\n",
        "    model = model.fit(X_train,y_train)\n",
        "    R2_s[n] = model.score(X_train,y_train)"
      ]
    },
    {
      "cell_type": "code",
      "execution_count": 15,
      "metadata": {
        "colab": {
          "base_uri": "https://localhost:8080/",
          "height": 497
        },
        "id": "DWTiYKSWW1uX",
        "outputId": "352b619a-753e-489c-9e21-25e1728fb318"
      },
      "outputs": [
        {
          "output_type": "display_data",
          "data": {
            "text/plain": [
              "<Figure size 576x576 with 1 Axes>"
            ],
            "image/png": "[encoded data removed]"
          },
          "metadata": {
            "needs_background": "light"
          }
        }
      ],
      "source": [
        "plt.figure(figsize=(8,8))\n",
        "plt.scatter(ntrees,R2_s,c='r',label='ntrees')\n",
        "plt.ylabel('Accuracy')\n",
        "plt.xlabel('Trees')\n",
        "plt.grid()\n",
        "plt.legend()\n",
        "plt.show()"
      ]
    },
    {
      "cell_type": "code",
      "execution_count": 16,
      "metadata": {
        "colab": {
          "base_uri": "https://localhost:8080/"
        },
        "id": "B2quzdl_W1uY",
        "outputId": "4ebab07f-f9e3-43c6-d0a6-1a2419b7f1a4"
      },
      "outputs": [
        {
          "output_type": "execute_result",
          "data": {
            "text/plain": [
              "GridSearchCV(cv=10,\n",
              "             estimator=RandomForestClassifier(min_samples_leaf=2,\n",
              "                                              random_state=0),\n",
              "             param_grid={'max_depth': range(1, 8),\n",
              "                         'min_samples_split': range(5, 10, 2),\n",
              "                         'n_estimators': range(2, 5)},\n",
              "             scoring='accuracy')"
            ]
          },
          "metadata": {},
          "execution_count": 16
        }
      ],
      "source": [
        "#Usando cross validation y grid search\n",
        "from sklearn.model_selection import GridSearchCV\n",
        "\n",
        "model = RandomForestClassifier(criterion='gini',\n",
        "                               min_samples_leaf=2,\n",
        "                               max_features='auto',\n",
        "                               bootstrap=True,\n",
        "                               oob_score=False,\n",
        "                               random_state=0,\n",
        "                               verbose=0)\n",
        "\n",
        "gs = GridSearchCV(model,\n",
        "                  param_grid = {'max_depth': range(1, 8),\n",
        "                                'min_samples_split': range(5, 10, 2),\n",
        "                                'n_estimators': range(2,5,1)}, \n",
        "                  cv=10,\n",
        "                  scoring='accuracy')\n",
        "\n",
        "gs.fit(X_train, y_train)\n"
      ]
    },
    {
      "cell_type": "code",
      "execution_count": 17,
      "metadata": {
        "colab": {
          "base_uri": "https://localhost:8080/"
        },
        "id": "4fkSTb4JW1uZ",
        "outputId": "4c9ce6fd-ff7f-4dc5-a30f-1594b9bd1286"
      },
      "outputs": [
        {
          "output_type": "stream",
          "name": "stdout",
          "text": [
            "{'max_depth': 2, 'min_samples_split': 5, 'n_estimators': 2}\n"
          ]
        }
      ],
      "source": [
        "print(gs.best_params_)"
      ]
    },
    {
      "cell_type": "code",
      "execution_count": 18,
      "metadata": {
        "colab": {
          "base_uri": "https://localhost:8080/"
        },
        "id": "qjjiUWmgW1ua",
        "outputId": "ac68bdf7-ec5b-45aa-fee3-70ee84e8b41b"
      },
      "outputs": [
        {
          "output_type": "execute_result",
          "data": {
            "text/plain": [
              "RandomForestClassifier(max_depth=2, min_samples_leaf=2, min_samples_split=5,\n",
              "                       n_estimators=2, random_state=0)"
            ]
          },
          "metadata": {},
          "execution_count": 18
        }
      ],
      "source": [
        "#crear modelo usando parámetros óptimos\n",
        "new_model = RandomForestClassifier(n_estimators=2,\n",
        "                               criterion='gini',\n",
        "                               max_depth=2,\n",
        "                               min_samples_split=5,\n",
        "                               min_samples_leaf=2,\n",
        "                               max_features='auto',\n",
        "                               bootstrap=True,\n",
        "                               oob_score=False,\n",
        "                               random_state=0,\n",
        "                               verbose=0)\n",
        "new_model.fit(X_train, y_train)"
      ]
    },
    {
      "cell_type": "code",
      "execution_count": 19,
      "metadata": {
        "colab": {
          "base_uri": "https://localhost:8080/"
        },
        "id": "2o5lRP0JW1ub",
        "outputId": "78e18d80-fb0c-4520-aff7-b49b3b5ed980"
      },
      "outputs": [
        {
          "output_type": "stream",
          "name": "stdout",
          "text": [
            "Accuracy\t Precision\t Recall\n",
            " 0.967\t 0.969\t 0.967\n"
          ]
        }
      ],
      "source": [
        "# Evaluacion del modelo\n",
        "yhat = new_model.predict(X_test)\n",
        "accu = accuracy_score(y_test,yhat)\n",
        "prec = precision_score(y_test,yhat,average='weighted')\n",
        "reca = recall_score(y_test,yhat,average='weighted')\n",
        "print('Accuracy\\t Precision\\t Recall\\n %0.3f\\t %0.3f\\t %0.3f'%(accu,prec,reca))"
      ]
    },
    {
      "cell_type": "code",
      "execution_count": 20,
      "metadata": {
        "colab": {
          "base_uri": "https://localhost:8080/"
        },
        "id": "jPR274sUW1ub",
        "outputId": "3deb3327-23b0-421e-ce72-c29cb3ddf87a"
      },
      "outputs": [
        {
          "output_type": "execute_result",
          "data": {
            "text/plain": [
              "array([0.        , 0.        , 0.17911807, 0.82088193])"
            ]
          },
          "metadata": {},
          "execution_count": 20
        }
      ],
      "source": [
        "# Importancia de las variables\n",
        "new_model.feature_importances_"
      ]
    },
    {
      "cell_type": "code",
      "execution_count": 21,
      "metadata": {
        "colab": {
          "base_uri": "https://localhost:8080/"
        },
        "id": "7Z4N41TjW1ub",
        "outputId": "9da0affe-9b5f-4316-8193-cc88a333f7f6"
      },
      "outputs": [
        {
          "output_type": "execute_result",
          "data": {
            "text/plain": [
              "petal width (cm)     0.820882\n",
              "petal length (cm)    0.179118\n",
              "sepal length (cm)    0.000000\n",
              "sepal width (cm)     0.000000\n",
              "dtype: float64"
            ]
          },
          "metadata": {},
          "execution_count": 21
        }
      ],
      "source": [
        "import pandas as pd\n",
        "feature_imp = pd.Series(new_model.feature_importances_, index=iris.feature_names).sort_values(ascending=False)\n",
        "feature_imp"
      ]
    },
    {
      "cell_type": "code",
      "execution_count": 22,
      "metadata": {
        "colab": {
          "base_uri": "https://localhost:8080/",
          "height": 313
        },
        "id": "MVzyP9w-W1uc",
        "outputId": "886ea97a-59a2-42b2-f25a-112c59c6cb64"
      },
      "outputs": [
        {
          "output_type": "stream",
          "name": "stderr",
          "text": [
            "WARNING:matplotlib.legend:No handles with labels found to put in legend.\n"
          ]
        },
        {
          "output_type": "display_data",
          "data": {
            "text/plain": [
              "<Figure size 432x288 with 1 Axes>"
            ],
            "image/png": "[encoded data removed]"
          },
          "metadata": {
            "needs_background": "light"
          }
        }
      ],
      "source": [
        "import matplotlib.pyplot as plt\n",
        "import seaborn as sns\n",
        "\n",
        "sns.barplot(x=feature_imp, y=feature_imp.index)\n",
        "plt.xlabel('Feature Importance Score')\n",
        "plt.ylabel('Features')\n",
        "plt.title('Visualizing Important Features')\n",
        "plt.legend()\n",
        "plt.show()"
      ]
    },
    {
      "cell_type": "markdown",
      "metadata": {
        "id": "206yw14KW1uc"
      },
      "source": [
        "**Ventajas**\n",
        "\n",
        "- Son muy buenos generalizando\n",
        "- Protejen en contra del sobreajuste (overfitting) gracias a la construcción del bootstrapping \n",
        "- También reducen la varianza y por lo tanto mejoran la precisión del modelo\n",
        "- Funcionan muy bien con variables categóricas y variables continuas\n",
        "- No se requiere escalamiento previo de variables \n",
        "- Manejan muy bien el hecho de que haya datos nulos\n",
        "- Son modelos robustos ante valores atípicos (outliers)\n",
        "- Son algoritmos muy estables, cuando hay datos nuevos, el algoritmo no se ve muy afectado. Ya que este nuevo dato puede afectar a un árbol individual, pero es difícil que impacte a todos los árboles. \n",
        "\n",
        "**Desventajas**\n",
        "\n",
        "- Complejidad. Los bosques aleatorios crean muchos árboles y combina sus resultados. Requiere mucho poder computacional y recursos \n",
        "- Periodos de entrenamiento largos. Requieren más tiempo de entrenamiento. "
      ]
    }
  ],
  "metadata": {
    "kernelspec": {
      "display_name": "Python 3 (ipykernel)",
      "language": "python",
      "name": "python3"
    },
    "language_info": {
      "codemirror_mode": {
        "name": "ipython",
        "version": 3
      },
      "file_extension": ".py",
      "mimetype": "text/x-python",
      "name": "python",
      "nbconvert_exporter": "python",
      "pygments_lexer": "ipython3",
      "version": "3.9.7"
    },
    "colab": {
      "provenance": []
    }
  },
  "nbformat": 4,
  "nbformat_minor": 0
}