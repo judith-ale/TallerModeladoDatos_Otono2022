{
  "cells": [
    {
      "cell_type": "markdown",
      "metadata": {
        "id": "Z9gQNhJ9nCYU"
      },
      "source": [
        "___\n",
        "<img style=\"float: right; margin: 0px 0px 15px 15px;\" src=\"https://miro.medium.com/max/1400/1*QJZ6W-Pck_W7RlIDwUIN9Q.jpeg\" width=\"350px\" height=\"180px\" />\n",
        "\n",
        "\n",
        "# <font color= #8A0829> Laboratorio de Modelado de Datos </font>\n",
        "#### <font color= #2E9AFE> `Martes y Viernes (Videoconferencia) de 13:00 - 15:00 hrs`</font>\n",
        "- <Strong> Judith Alejandra Hinojosa Rábago </Strong>\n",
        "- <Strong> Año </Strong>: 2022\n",
        "- <Strong> Email: </Strong>  <font color=\"blue\"> `judith.hinojosa@iteso.mx` </font>\n",
        "___\n",
        "\n",
        "<p style=\"text-align:right;\"> Imagen recuperada de: https://miro.medium.com/max/1400/1*QJZ6W-Pck_W7RlIDwUIN9Q.jpeg</p>\n",
        "\n",
        "### <font color= #2E9AFE> Tema: Clasificación</font>"
      ]
    },
    {
      "cell_type": "code",
      "source": [
        "#@title\n",
        "from google.colab import drive\n",
        "drive.mount('/content/drive')"
      ],
      "metadata": {
        "colab": {
          "base_uri": "https://localhost:8080/"
        },
        "id": "0E-8inu01f0s",
        "outputId": "89c171c2-11e5-41df-ba25-7da7b87603e7",
        "cellView": "form"
      },
      "execution_count": null,
      "outputs": [
        {
          "output_type": "stream",
          "name": "stdout",
          "text": [
            "Mounted at /content/drive\n"
          ]
        }
      ]
    },
    {
      "cell_type": "markdown",
      "metadata": {
        "id": "8Q2y7suMnCYb"
      },
      "source": [
        "\n",
        "#### Características\n",
        "- Consiste en un ensamblado **secuencial** de árboles de decisión. Los árboles se agregan secuencialmente con la finalidad de aprender del resultado de árboles anteriores y corregir el error producido por los mismos, hasta que ya no se pueda corregir dicho error.\n",
        "- Utiliza el procesamiento en paralelo, poda de árboles, manejo de valores nulos, regularización para evitar el sobreajuste del modelo \n",
        "\n",
        "#### Aplicaciones\n",
        "Uno de los sectores en los que se aplican este tipo de algoritmos es el financiero.\n",
        "Algunos ejemplos de su aplicación son: segmentación de clientes, detección de fraudes, pronóstico de ventas, autenticación de clientes y análisis de comportamiento de mercados. \n",
        "\n",
        "Un área de interés es identificar clientes a quienes otorgar una tarjeta de crédito, esto es crítico para los bancos, ya que una selección incorrecta de estos clientes podría derivar en un incremento de su cartera vencida.\n",
        "\n",
        "\n",
        "#### Parámetros a optimizar\n",
        "\n",
        "- Tasa de aprendizaje (eta)\n",
        "- Profundidad del árbol\n",
        "- Gamma (para podar el árbol)\n",
        "- Lambda (regularización)\n",
        "- Min child weight\n",
        "- scale_pos_weigth\n",
        "\n",
        "#### Ventajas de XGBoost\n",
        "\n",
        "- Puede manejar grandes bases de datos con muchas variables\n",
        "- Puede manejar datos nulos\n",
        "- Resultados muy precisos\n",
        "- Rápidos de ejecutar\n",
        "\n",
        "#### Desventajas de XGBoost\n",
        "- Puede consumir muchos recursos computacionales, por lo que se recomienda determinar antes cuáles son las variables que aportarán más información al modelo\n",
        "- Se deben ajustar correctamente los parámetros del algoritmo\n",
        "- Es conveniente transformar los datos a que todos sean numéricos"
      ]
    },
    {
      "cell_type": "markdown",
      "metadata": {
        "id": "hH03-YfnnCYh"
      },
      "source": [
        "## Clasificación\n",
        "\n",
        "### Datos\n",
        "\n",
        "Vamos a utilizar los datos de **IBM Base Samples** para predecir si un cliente va a dejar de usar los servicios de IBM. \n",
        "\n",
        "Los datos se pueden descargar de:\n",
        "https://www.kaggle.com/yeanzc/telco-customer-churn-ibm-dataset\n",
        "\n",
        "Se tienen 7043 observaciones y 33 variables\n",
        "\n",
        "- CustomerID: ID único que identifica a cada cliente.\n",
        "- Count: valor utilizado en informes para sumar el número de clientes en un conjunto determinado.\n",
        "- Country: donde vive el cliente\n",
        "- State: estado donde vive el cliente\n",
        "- Ciudad: ciudad donde vive el cliente\n",
        "- Zip Code: zip code donde vive el cliente\n",
        "- Lat Long: La latitud y longitud combinadas de la residencia principal del cliente.\n",
        "- Latitude: latitud \n",
        "- Longitude: longitud\n",
        "- Gender: género\n",
        "- Senior Citizen: Indica si el cliente es 65 o mayor: Yes, No\n",
        "- Partner: Indica si el cliente tiene un socio: Yes, No\n",
        "- Dependents: Indica si el cliente tiene algún dependiente: yes, no. (Hijos, padres, abuelos, etc). \n",
        "- Tenure Months: Indicates the total amount of months that the customer has been with the company by the end of the quarter specified above.\n",
        "- Phone Service: Indica si el cliente está suscrito al servicio de telefonía residencial con la empresa: Yes, No\n",
        "- Multiple Lines: Indica si el cliente se suscribe a múltiples líneas telefónicas con la empresa: Yes, No\n",
        "- Internet Service: Indica si el cliente se suscribe al servicio de Internet con la empresa: No, DSL, Fiber Optic, Cable.\n",
        "- Online Security: Indica si el cliente se suscribe a un servicio de seguridad online adicional proporcionado por la empresa: Yes, No\n",
        "- Online Backup: Indica si el cliente se suscribe a un servicio adicional de respaldo en línea proporcionado por la empresa: Yes, No\n",
        "- Device Protection: Indica si el cliente se suscribe a un plan adicional de protección de dispositivos para su equipo de Internet proporcionado por la empresa: Yes, No\n",
        "- Tech Support: Indica si el cliente se suscribe a un plan de soporte técnico adicional de la empresa con tiempos de espera reducidos: Yes, No\n",
        "- Streaming TV: Indica si el cliente utiliza su servicio de Internet para transmitir programación de televisión de un proveedor externo: Sí, No. La empresa no cobra una tarifa adicional por este servicio.\n",
        "- Streaming Movies: Indica si el cliente utiliza su servicio de Internet para transmitir películas de un proveedor externo: Sí, No. La empresa no cobra una tarifa adicional por este servicio.\n",
        "- Contract: Indica el tipo de contrato actual del cliente: Month-to-Month, One Year, Two Year.\n",
        "- Paperless Billing: Indica si el cliente ha elegido facturación electrónica: Yes, No\n",
        "- Payment Method: Indica cómo el cliente paga su factura: Bank Withdrawal, Credit Card, Mailed Check\n",
        "- Monthly Charge: Indica el cargo mensual total actual del cliente por todos sus servicios de la compañía\n",
        "- Total Charges: Indica los cargos totales del cliente, calculados al final del trimestre especificado anteriormente.\n",
        "- Churn Label: Yes = the customer left the company this quarter. No = the customer remained with the company. Directly related to Churn Value.\n",
        "- Churn Value: 1 = el cliente dejó la compañía este cuarto 0 = el cliente sigue con la compañía. \n",
        "- Churn Score: Un valor de 0 a 100 que se calcula utilizando la herramienta predictiva IBM SPSS Modeler. El modelo incorpora múltiples factores que se sabe que causan abandono. Cuanto más alto sea el puntaje, más probable es que el cliente abandone.\n",
        "- CLTV: Customer Lifetime Value. Valor de por vida del cliente. Un CLTV pronosticado se calcula utilizando fórmulas corporativas y datos existentes. Cuanto mayor sea el valor, más valioso será el cliente. Los clientes de alto valor deben ser monitoreados por abandono.\n",
        "- Churn reason: La razón específica de un cliente para dejar la empresa. Directamente relacionado con la categoría Churn.\n"
      ]
    },
    {
      "cell_type": "code",
      "source": [
        "from google.colab import drive\n",
        "drive.mount('/content/drive')"
      ],
      "metadata": {
        "colab": {
          "base_uri": "https://localhost:8080/"
        },
        "id": "O1sbxQQS4u1s",
        "outputId": "ce8fecbc-6657-4202-f954-1916b7e8cb5d"
      },
      "execution_count": 1,
      "outputs": [
        {
          "output_type": "stream",
          "name": "stdout",
          "text": [
            "Mounted at /content/drive\n"
          ]
        }
      ]
    },
    {
      "cell_type": "code",
      "source": [
        "%cd /content/drive/MyDrive/ITESO/LABORATORIO DE MODELADO DE DATOS"
      ],
      "metadata": {
        "colab": {
          "base_uri": "https://localhost:8080/"
        },
        "id": "I46dq8Y35VwZ",
        "outputId": "53674cab-6fbe-4a21-9eac-22b9b6b9548d"
      },
      "execution_count": 2,
      "outputs": [
        {
          "output_type": "stream",
          "name": "stdout",
          "text": [
            "/content/drive/MyDrive/ITESO/LABORATORIO DE MODELADO DE DATOS\n"
          ]
        }
      ]
    },
    {
      "cell_type": "code",
      "execution_count": 3,
      "metadata": {
        "id": "yQB3HVj4nCYl"
      },
      "outputs": [],
      "source": [
        "#Librerías\n",
        "import pandas as pd\n",
        "import numpy as np\n",
        "import xgboost as xgb\n",
        "from sklearn.metrics import confusion_matrix, plot_confusion_matrix, balanced_accuracy_score, roc_auc_score, make_scorer\n",
        "from sklearn.model_selection import train_test_split, GridSearchCV"
      ]
    },
    {
      "cell_type": "code",
      "execution_count": 4,
      "metadata": {
        "id": "f6WnFNHNnCYo"
      },
      "outputs": [],
      "source": [
        "#Importar datos\n",
        "data = pd.read_excel('Telco_customer_churn.xlsx')"
      ]
    },
    {
      "cell_type": "code",
      "execution_count": 5,
      "metadata": {
        "colab": {
          "base_uri": "https://localhost:8080/",
          "height": 456
        },
        "id": "L6gcTy0ZnCYq",
        "outputId": "1f132fa4-00b9-43a3-e0e4-dd3688509694"
      },
      "outputs": [
        {
          "output_type": "execute_result",
          "data": {
            "text/plain": [
              "   CustomerID  Count        Country       State         City  Zip Code  \\\n",
              "0  3668-QPYBK      1  United States  California  Los Angeles     90003   \n",
              "1  9237-HQITU      1  United States  California  Los Angeles     90005   \n",
              "2  9305-CDSKC      1  United States  California  Los Angeles     90006   \n",
              "3  7892-POOKP      1  United States  California  Los Angeles     90010   \n",
              "4  0280-XJGEX      1  United States  California  Los Angeles     90015   \n",
              "\n",
              "                 Lat Long   Latitude   Longitude  Gender  ...        Contract  \\\n",
              "0  33.964131, -118.272783  33.964131 -118.272783    Male  ...  Month-to-month   \n",
              "1   34.059281, -118.30742  34.059281 -118.307420  Female  ...  Month-to-month   \n",
              "2  34.048013, -118.293953  34.048013 -118.293953  Female  ...  Month-to-month   \n",
              "3  34.062125, -118.315709  34.062125 -118.315709  Female  ...  Month-to-month   \n",
              "4  34.039224, -118.266293  34.039224 -118.266293    Male  ...  Month-to-month   \n",
              "\n",
              "  Paperless Billing             Payment Method  Monthly Charges Total Charges  \\\n",
              "0               Yes               Mailed check            53.85        108.15   \n",
              "1               Yes           Electronic check            70.70        151.65   \n",
              "2               Yes           Electronic check            99.65         820.5   \n",
              "3               Yes           Electronic check           104.80       3046.05   \n",
              "4               Yes  Bank transfer (automatic)           103.70        5036.3   \n",
              "\n",
              "  Churn Label Churn Value Churn Score  CLTV                   Churn Reason  \n",
              "0         Yes           1          86  3239   Competitor made better offer  \n",
              "1         Yes           1          67  2701                          Moved  \n",
              "2         Yes           1          86  5372                          Moved  \n",
              "3         Yes           1          84  5003                          Moved  \n",
              "4         Yes           1          89  5340  Competitor had better devices  \n",
              "\n",
              "[5 rows x 33 columns]"
            ],
            "text/html": [
              "\n",
              "  <div id=\"df-e401dac7-11c1-487b-a5c7-2f31f2af1532\">\n",
              "    <div class=\"colab-df-container\">\n",
              "      <div>\n",
              "<style scoped>\n",
              "    .dataframe tbody tr th:only-of-type {\n",
              "        vertical-align: middle;\n",
              "    }\n",
              "\n",
              "    .dataframe tbody tr th {\n",
              "        vertical-align: top;\n",
              "    }\n",
              "\n",
              "    .dataframe thead th {\n",
              "        text-align: right;\n",
              "    }\n",
              "</style>\n",
              "<table border=\"1\" class=\"dataframe\">\n",
              "  <thead>\n",
              "    <tr style=\"text-align: right;\">\n",
              "      <th></th>\n",
              "      <th>CustomerID</th>\n",
              "      <th>Count</th>\n",
              "      <th>Country</th>\n",
              "      <th>State</th>\n",
              "      <th>City</th>\n",
              "      <th>Zip Code</th>\n",
              "      <th>Lat Long</th>\n",
              "      <th>Latitude</th>\n",
              "      <th>Longitude</th>\n",
              "      <th>Gender</th>\n",
              "      <th>...</th>\n",
              "      <th>Contract</th>\n",
              "      <th>Paperless Billing</th>\n",
              "      <th>Payment Method</th>\n",
              "      <th>Monthly Charges</th>\n",
              "      <th>Total Charges</th>\n",
              "      <th>Churn Label</th>\n",
              "      <th>Churn Value</th>\n",
              "      <th>Churn Score</th>\n",
              "      <th>CLTV</th>\n",
              "      <th>Churn Reason</th>\n",
              "    </tr>\n",
              "  </thead>\n",
              "  <tbody>\n",
              "    <tr>\n",
              "      <th>0</th>\n",
              "      <td>3668-QPYBK</td>\n",
              "      <td>1</td>\n",
              "      <td>United States</td>\n",
              "      <td>California</td>\n",
              "      <td>Los Angeles</td>\n",
              "      <td>90003</td>\n",
              "      <td>33.964131, -118.272783</td>\n",
              "      <td>33.964131</td>\n",
              "      <td>-118.272783</td>\n",
              "      <td>Male</td>\n",
              "      <td>...</td>\n",
              "      <td>Month-to-month</td>\n",
              "      <td>Yes</td>\n",
              "      <td>Mailed check</td>\n",
              "      <td>53.85</td>\n",
              "      <td>108.15</td>\n",
              "      <td>Yes</td>\n",
              "      <td>1</td>\n",
              "      <td>86</td>\n",
              "      <td>3239</td>\n",
              "      <td>Competitor made better offer</td>\n",
              "    </tr>\n",
              "    <tr>\n",
              "      <th>1</th>\n",
              "      <td>9237-HQITU</td>\n",
              "      <td>1</td>\n",
              "      <td>United States</td>\n",
              "      <td>California</td>\n",
              "      <td>Los Angeles</td>\n",
              "      <td>90005</td>\n",
              "      <td>34.059281, -118.30742</td>\n",
              "      <td>34.059281</td>\n",
              "      <td>-118.307420</td>\n",
              "      <td>Female</td>\n",
              "      <td>...</td>\n",
              "      <td>Month-to-month</td>\n",
              "      <td>Yes</td>\n",
              "      <td>Electronic check</td>\n",
              "      <td>70.70</td>\n",
              "      <td>151.65</td>\n",
              "      <td>Yes</td>\n",
              "      <td>1</td>\n",
              "      <td>67</td>\n",
              "      <td>2701</td>\n",
              "      <td>Moved</td>\n",
              "    </tr>\n",
              "    <tr>\n",
              "      <th>2</th>\n",
              "      <td>9305-CDSKC</td>\n",
              "      <td>1</td>\n",
              "      <td>United States</td>\n",
              "      <td>California</td>\n",
              "      <td>Los Angeles</td>\n",
              "      <td>90006</td>\n",
              "      <td>34.048013, -118.293953</td>\n",
              "      <td>34.048013</td>\n",
              "      <td>-118.293953</td>\n",
              "      <td>Female</td>\n",
              "      <td>...</td>\n",
              "      <td>Month-to-month</td>\n",
              "      <td>Yes</td>\n",
              "      <td>Electronic check</td>\n",
              "      <td>99.65</td>\n",
              "      <td>820.5</td>\n",
              "      <td>Yes</td>\n",
              "      <td>1</td>\n",
              "      <td>86</td>\n",
              "      <td>5372</td>\n",
              "      <td>Moved</td>\n",
              "    </tr>\n",
              "    <tr>\n",
              "      <th>3</th>\n",
              "      <td>7892-POOKP</td>\n",
              "      <td>1</td>\n",
              "      <td>United States</td>\n",
              "      <td>California</td>\n",
              "      <td>Los Angeles</td>\n",
              "      <td>90010</td>\n",
              "      <td>34.062125, -118.315709</td>\n",
              "      <td>34.062125</td>\n",
              "      <td>-118.315709</td>\n",
              "      <td>Female</td>\n",
              "      <td>...</td>\n",
              "      <td>Month-to-month</td>\n",
              "      <td>Yes</td>\n",
              "      <td>Electronic check</td>\n",
              "      <td>104.80</td>\n",
              "      <td>3046.05</td>\n",
              "      <td>Yes</td>\n",
              "      <td>1</td>\n",
              "      <td>84</td>\n",
              "      <td>5003</td>\n",
              "      <td>Moved</td>\n",
              "    </tr>\n",
              "    <tr>\n",
              "      <th>4</th>\n",
              "      <td>0280-XJGEX</td>\n",
              "      <td>1</td>\n",
              "      <td>United States</td>\n",
              "      <td>California</td>\n",
              "      <td>Los Angeles</td>\n",
              "      <td>90015</td>\n",
              "      <td>34.039224, -118.266293</td>\n",
              "      <td>34.039224</td>\n",
              "      <td>-118.266293</td>\n",
              "      <td>Male</td>\n",
              "      <td>...</td>\n",
              "      <td>Month-to-month</td>\n",
              "      <td>Yes</td>\n",
              "      <td>Bank transfer (automatic)</td>\n",
              "      <td>103.70</td>\n",
              "      <td>5036.3</td>\n",
              "      <td>Yes</td>\n",
              "      <td>1</td>\n",
              "      <td>89</td>\n",
              "      <td>5340</td>\n",
              "      <td>Competitor had better devices</td>\n",
              "    </tr>\n",
              "  </tbody>\n",
              "</table>\n",
              "<p>5 rows × 33 columns</p>\n",
              "</div>\n",
              "      <button class=\"colab-df-convert\" onclick=\"convertToInteractive('df-e401dac7-11c1-487b-a5c7-2f31f2af1532')\"\n",
              "              title=\"Convert this dataframe to an interactive table.\"\n",
              "              style=\"display:none;\">\n",
              "        \n",
              "  <svg xmlns=\"http://www.w3.org/2000/svg\" height=\"24px\"viewBox=\"0 0 24 24\"\n",
              "       width=\"24px\">\n",
              "    <path d=\"M0 0h24v24H0V0z\" fill=\"none\"/>\n",
              "    <path d=\"M18.56 5.44l.94 2.06.94-2.06 2.06-.94-2.06-.94-.94-2.06-.94 2.06-2.06.94zm-11 1L8.5 8.5l.94-2.06 2.06-.94-2.06-.94L8.5 2.5l-.94 2.06-2.06.94zm10 10l.94 2.06.94-2.06 2.06-.94-2.06-.94-.94-2.06-.94 2.06-2.06.94z\"/><path d=\"M17.41 7.96l-1.37-1.37c-.4-.4-.92-.59-1.43-.59-.52 0-1.04.2-1.43.59L10.3 9.45l-7.72 7.72c-.78.78-.78 2.05 0 2.83L4 21.41c.39.39.9.59 1.41.59.51 0 1.02-.2 1.41-.59l7.78-7.78 2.81-2.81c.8-.78.8-2.07 0-2.86zM5.41 20L4 18.59l7.72-7.72 1.47 1.35L5.41 20z\"/>\n",
              "  </svg>\n",
              "      </button>\n",
              "      \n",
              "  <style>\n",
              "    .colab-df-container {\n",
              "      display:flex;\n",
              "      flex-wrap:wrap;\n",
              "      gap: 12px;\n",
              "    }\n",
              "\n",
              "    .colab-df-convert {\n",
              "      background-color: #E8F0FE;\n",
              "      border: none;\n",
              "      border-radius: 50%;\n",
              "      cursor: pointer;\n",
              "      display: none;\n",
              "      fill: #1967D2;\n",
              "      height: 32px;\n",
              "      padding: 0 0 0 0;\n",
              "      width: 32px;\n",
              "    }\n",
              "\n",
              "    .colab-df-convert:hover {\n",
              "      background-color: #E2EBFA;\n",
              "      box-shadow: 0px 1px 2px rgba(60, 64, 67, 0.3), 0px 1px 3px 1px rgba(60, 64, 67, 0.15);\n",
              "      fill: #174EA6;\n",
              "    }\n",
              "\n",
              "    [theme=dark] .colab-df-convert {\n",
              "      background-color: #3B4455;\n",
              "      fill: #D2E3FC;\n",
              "    }\n",
              "\n",
              "    [theme=dark] .colab-df-convert:hover {\n",
              "      background-color: #434B5C;\n",
              "      box-shadow: 0px 1px 3px 1px rgba(0, 0, 0, 0.15);\n",
              "      filter: drop-shadow(0px 1px 2px rgba(0, 0, 0, 0.3));\n",
              "      fill: #FFFFFF;\n",
              "    }\n",
              "  </style>\n",
              "\n",
              "      <script>\n",
              "        const buttonEl =\n",
              "          document.querySelector('#df-e401dac7-11c1-487b-a5c7-2f31f2af1532 button.colab-df-convert');\n",
              "        buttonEl.style.display =\n",
              "          google.colab.kernel.accessAllowed ? 'block' : 'none';\n",
              "\n",
              "        async function convertToInteractive(key) {\n",
              "          const element = document.querySelector('#df-e401dac7-11c1-487b-a5c7-2f31f2af1532');\n",
              "          const dataTable =\n",
              "            await google.colab.kernel.invokeFunction('convertToInteractive',\n",
              "                                                     [key], {});\n",
              "          if (!dataTable) return;\n",
              "\n",
              "          const docLinkHtml = 'Like what you see? Visit the ' +\n",
              "            '<a target=\"_blank\" href=https://colab.research.google.com/notebooks/data_table.ipynb>data table notebook</a>'\n",
              "            + ' to learn more about interactive tables.';\n",
              "          element.innerHTML = '';\n",
              "          dataTable['output_type'] = 'display_data';\n",
              "          await google.colab.output.renderOutput(dataTable, element);\n",
              "          const docLink = document.createElement('div');\n",
              "          docLink.innerHTML = docLinkHtml;\n",
              "          element.appendChild(docLink);\n",
              "        }\n",
              "      </script>\n",
              "    </div>\n",
              "  </div>\n",
              "  "
            ]
          },
          "metadata": {},
          "execution_count": 5
        }
      ],
      "source": [
        "#vistazo de los datos\n",
        "data.head()"
      ]
    },
    {
      "cell_type": "code",
      "execution_count": 6,
      "metadata": {
        "colab": {
          "base_uri": "https://localhost:8080/"
        },
        "id": "J5bal2amnCYs",
        "outputId": "292851fa-ecac-4969-e482-22dda0cdb390"
      },
      "outputs": [
        {
          "output_type": "execute_result",
          "data": {
            "text/plain": [
              "CustomerID            object\n",
              "Count                  int64\n",
              "Country               object\n",
              "State                 object\n",
              "City                  object\n",
              "Zip Code               int64\n",
              "Lat Long              object\n",
              "Latitude             float64\n",
              "Longitude            float64\n",
              "Gender                object\n",
              "Senior Citizen        object\n",
              "Partner               object\n",
              "Dependents            object\n",
              "Tenure Months          int64\n",
              "Phone Service         object\n",
              "Multiple Lines        object\n",
              "Internet Service      object\n",
              "Online Security       object\n",
              "Online Backup         object\n",
              "Device Protection     object\n",
              "Tech Support          object\n",
              "Streaming TV          object\n",
              "Streaming Movies      object\n",
              "Contract              object\n",
              "Paperless Billing     object\n",
              "Payment Method        object\n",
              "Monthly Charges      float64\n",
              "Total Charges         object\n",
              "Churn Label           object\n",
              "Churn Value            int64\n",
              "Churn Score            int64\n",
              "CLTV                   int64\n",
              "Churn Reason          object\n",
              "dtype: object"
            ]
          },
          "metadata": {},
          "execution_count": 6
        }
      ],
      "source": [
        "data.dtypes"
      ]
    },
    {
      "cell_type": "markdown",
      "metadata": {
        "id": "uPDLoFcSnCYu"
      },
      "source": [
        "**Limpiar y procesamiento de datos**"
      ]
    },
    {
      "cell_type": "code",
      "execution_count": 7,
      "metadata": {
        "id": "yytlxwdhnCYv"
      },
      "outputs": [],
      "source": [
        "#quitar espacio en blanco de los nombres de las columnas y reemplazar por guión bajo\n",
        "data.columns = data.columns.str.replace(' ', '_')\n"
      ]
    },
    {
      "cell_type": "code",
      "source": [
        "data.columns"
      ],
      "metadata": {
        "colab": {
          "base_uri": "https://localhost:8080/"
        },
        "id": "grzGsVZP2psC",
        "outputId": "43480857-eb7f-47af-f0c6-2c7d7d634b5c"
      },
      "execution_count": 8,
      "outputs": [
        {
          "output_type": "execute_result",
          "data": {
            "text/plain": [
              "Index(['CustomerID', 'Count', 'Country', 'State', 'City', 'Zip_Code',\n",
              "       'Lat_Long', 'Latitude', 'Longitude', 'Gender', 'Senior_Citizen',\n",
              "       'Partner', 'Dependents', 'Tenure_Months', 'Phone_Service',\n",
              "       'Multiple_Lines', 'Internet_Service', 'Online_Security',\n",
              "       'Online_Backup', 'Device_Protection', 'Tech_Support', 'Streaming_TV',\n",
              "       'Streaming_Movies', 'Contract', 'Paperless_Billing', 'Payment_Method',\n",
              "       'Monthly_Charges', 'Total_Charges', 'Churn_Label', 'Churn_Value',\n",
              "       'Churn_Score', 'CLTV', 'Churn_Reason'],\n",
              "      dtype='object')"
            ]
          },
          "metadata": {},
          "execution_count": 8
        }
      ]
    },
    {
      "cell_type": "code",
      "execution_count": 9,
      "metadata": {
        "colab": {
          "base_uri": "https://localhost:8080/"
        },
        "id": "JRjFOcLjnCYz",
        "outputId": "b7ac1c2e-552b-492f-c38d-bfdd0dbc2f7e"
      },
      "outputs": [
        {
          "output_type": "execute_result",
          "data": {
            "text/plain": [
              "array([108.15, 151.65, 820.5, ..., 7362.9, 346.45, 6844.5], dtype=object)"
            ]
          },
          "metadata": {},
          "execution_count": 9
        }
      ],
      "source": [
        "#La columna \"Total Charges\" parece ser una variable categórica (object) pero al hacer un vistazo \n",
        "#en los datos (data.head()) parece haber datos numéricos\n",
        "data['Total_Charges'].unique()"
      ]
    },
    {
      "cell_type": "code",
      "execution_count": 10,
      "metadata": {
        "id": "Iz40zfx8nCY0"
      },
      "outputs": [],
      "source": [
        "#convertimos la variable Total Charges a numérica\n",
        "#data['Total_Charges'] = pd.to_numeric(data['Total_Charges'])\n",
        "# NO SE PUEDE PORQUE HAY ESPACIOS EN ALGUNOS REGISTROS"
      ]
    },
    {
      "cell_type": "code",
      "execution_count": 11,
      "metadata": {
        "id": "K6PhGqz2nCY1"
      },
      "outputs": [],
      "source": [
        "#Parece haber filas con espacio en blanco y por eso toma a la variable como categórica\n",
        "# Sustituimos esos valores con cero\n",
        "data.loc[data['Total_Charges'] == ' ', 'Total_Charges'] = 0\n",
        "#convertimos a tipo de dato numérico\n",
        "data['Total_Charges'] = pd.to_numeric(data['Total_Charges'])"
      ]
    },
    {
      "cell_type": "code",
      "source": [
        "data['Total_Charges'].unique()"
      ],
      "metadata": {
        "colab": {
          "base_uri": "https://localhost:8080/"
        },
        "id": "zxICA8fL4BWp",
        "outputId": "90fcbd93-c5c4-440d-fe22-6eada79b9e25"
      },
      "execution_count": 12,
      "outputs": [
        {
          "output_type": "execute_result",
          "data": {
            "text/plain": [
              "array([ 108.15,  151.65,  820.5 , ..., 7362.9 ,  346.45, 6844.5 ])"
            ]
          },
          "metadata": {},
          "execution_count": 12
        }
      ]
    },
    {
      "cell_type": "code",
      "execution_count": 13,
      "metadata": {
        "id": "vk2p0nfOnCY2"
      },
      "outputs": [],
      "source": [
        "#Existen 4 variables que debemos remover\n",
        "data.drop(['Churn_Label','Churn_Reason','Churn_Score','CLTV'], axis=1, inplace=True)"
      ]
    },
    {
      "cell_type": "code",
      "execution_count": 14,
      "metadata": {
        "colab": {
          "base_uri": "https://localhost:8080/"
        },
        "id": "Ei7dTSy4nCY4",
        "outputId": "308f15a3-d3b2-4ec5-ca08-fee6b051cc53"
      },
      "outputs": [
        {
          "output_type": "execute_result",
          "data": {
            "text/plain": [
              "CustomerID           7043\n",
              "Count                   1\n",
              "Country                 1\n",
              "State                   1\n",
              "City                 1129\n",
              "Zip_Code             1652\n",
              "Lat_Long             1652\n",
              "Latitude             1652\n",
              "Longitude            1651\n",
              "Gender                  2\n",
              "Senior_Citizen          2\n",
              "Partner                 2\n",
              "Dependents              2\n",
              "Tenure_Months          73\n",
              "Phone_Service           2\n",
              "Multiple_Lines          3\n",
              "Internet_Service        3\n",
              "Online_Security         3\n",
              "Online_Backup           3\n",
              "Device_Protection       3\n",
              "Tech_Support            3\n",
              "Streaming_TV            3\n",
              "Streaming_Movies        3\n",
              "Contract                3\n",
              "Paperless_Billing       2\n",
              "Payment_Method          4\n",
              "Monthly_Charges      1585\n",
              "Total_Charges        6531\n",
              "Churn_Value             2\n",
              "dtype: int64"
            ]
          },
          "metadata": {},
          "execution_count": 14
        }
      ],
      "source": [
        "#Eliminar variables que tienen muy poca varianza (que contienen muy pocos valores únicos)\n",
        "data.nunique()"
      ]
    },
    {
      "cell_type": "code",
      "execution_count": 15,
      "metadata": {
        "id": "bNVouJV1nCY4"
      },
      "outputs": [],
      "source": [
        "#quitamos CustomerID, Lat Long, count, country y state\n",
        "data.drop(['CustomerID','Lat_Long','Count','Country','State'], axis=1, inplace=True)"
      ]
    },
    {
      "cell_type": "code",
      "execution_count": 16,
      "metadata": {
        "colab": {
          "base_uri": "https://localhost:8080/"
        },
        "id": "qT7Pb-H1nCY5",
        "outputId": "7d0f5276-0e18-429c-e9cc-1ad243fe9b22"
      },
      "outputs": [
        {
          "output_type": "execute_result",
          "data": {
            "text/plain": [
              "City                 1129\n",
              "Zip_Code             1652\n",
              "Latitude             1652\n",
              "Longitude            1651\n",
              "Gender                  2\n",
              "Senior_Citizen          2\n",
              "Partner                 2\n",
              "Dependents              2\n",
              "Tenure_Months          73\n",
              "Phone_Service           2\n",
              "Multiple_Lines          3\n",
              "Internet_Service        3\n",
              "Online_Security         3\n",
              "Online_Backup           3\n",
              "Device_Protection       3\n",
              "Tech_Support            3\n",
              "Streaming_TV            3\n",
              "Streaming_Movies        3\n",
              "Contract                3\n",
              "Paperless_Billing       2\n",
              "Payment_Method          4\n",
              "Monthly_Charges      1585\n",
              "Total_Charges        6531\n",
              "Churn_Value             2\n",
              "dtype: int64"
            ]
          },
          "metadata": {},
          "execution_count": 16
        }
      ],
      "source": [
        "data.nunique()"
      ]
    },
    {
      "cell_type": "code",
      "execution_count": 17,
      "metadata": {
        "id": "9JeiJbfOnCY6"
      },
      "outputs": [],
      "source": [
        "#quitar espacio en blanco de los valores de las columnas y reemplazar por guión bajo\n",
        "data.replace(' ', '_', regex=True, inplace=True)"
      ]
    },
    {
      "cell_type": "code",
      "execution_count": 18,
      "metadata": {
        "colab": {
          "base_uri": "https://localhost:8080/",
          "height": 289
        },
        "id": "2yiav6JunCY7",
        "outputId": "61b0fc38-265f-49bf-f55d-b76ab9427f32"
      },
      "outputs": [
        {
          "output_type": "execute_result",
          "data": {
            "text/plain": [
              "          City  Zip_Code   Latitude   Longitude  Gender Senior_Citizen  \\\n",
              "0  Los_Angeles     90003  33.964131 -118.272783    Male             No   \n",
              "1  Los_Angeles     90005  34.059281 -118.307420  Female             No   \n",
              "2  Los_Angeles     90006  34.048013 -118.293953  Female             No   \n",
              "\n",
              "  Partner Dependents  Tenure_Months Phone_Service  ... Online_Backup  \\\n",
              "0      No         No              2           Yes  ...           Yes   \n",
              "1      No        Yes              2           Yes  ...            No   \n",
              "2      No        Yes              8           Yes  ...            No   \n",
              "\n",
              "  Device_Protection Tech_Support Streaming_TV Streaming_Movies  \\\n",
              "0                No           No           No               No   \n",
              "1                No           No           No               No   \n",
              "2               Yes           No          Yes              Yes   \n",
              "\n",
              "         Contract Paperless_Billing    Payment_Method Monthly_Charges  \\\n",
              "0  Month-to-month               Yes      Mailed_check           53.85   \n",
              "1  Month-to-month               Yes  Electronic_check           70.70   \n",
              "2  Month-to-month               Yes  Electronic_check           99.65   \n",
              "\n",
              "  Total_Charges  \n",
              "0        108.15  \n",
              "1        151.65  \n",
              "2        820.50  \n",
              "\n",
              "[3 rows x 23 columns]"
            ],
            "text/html": [
              "\n",
              "  <div id=\"df-19fc584c-a6d3-4801-a112-cf7d9b6d00e0\">\n",
              "    <div class=\"colab-df-container\">\n",
              "      <div>\n",
              "<style scoped>\n",
              "    .dataframe tbody tr th:only-of-type {\n",
              "        vertical-align: middle;\n",
              "    }\n",
              "\n",
              "    .dataframe tbody tr th {\n",
              "        vertical-align: top;\n",
              "    }\n",
              "\n",
              "    .dataframe thead th {\n",
              "        text-align: right;\n",
              "    }\n",
              "</style>\n",
              "<table border=\"1\" class=\"dataframe\">\n",
              "  <thead>\n",
              "    <tr style=\"text-align: right;\">\n",
              "      <th></th>\n",
              "      <th>City</th>\n",
              "      <th>Zip_Code</th>\n",
              "      <th>Latitude</th>\n",
              "      <th>Longitude</th>\n",
              "      <th>Gender</th>\n",
              "      <th>Senior_Citizen</th>\n",
              "      <th>Partner</th>\n",
              "      <th>Dependents</th>\n",
              "      <th>Tenure_Months</th>\n",
              "      <th>Phone_Service</th>\n",
              "      <th>...</th>\n",
              "      <th>Online_Backup</th>\n",
              "      <th>Device_Protection</th>\n",
              "      <th>Tech_Support</th>\n",
              "      <th>Streaming_TV</th>\n",
              "      <th>Streaming_Movies</th>\n",
              "      <th>Contract</th>\n",
              "      <th>Paperless_Billing</th>\n",
              "      <th>Payment_Method</th>\n",
              "      <th>Monthly_Charges</th>\n",
              "      <th>Total_Charges</th>\n",
              "    </tr>\n",
              "  </thead>\n",
              "  <tbody>\n",
              "    <tr>\n",
              "      <th>0</th>\n",
              "      <td>Los_Angeles</td>\n",
              "      <td>90003</td>\n",
              "      <td>33.964131</td>\n",
              "      <td>-118.272783</td>\n",
              "      <td>Male</td>\n",
              "      <td>No</td>\n",
              "      <td>No</td>\n",
              "      <td>No</td>\n",
              "      <td>2</td>\n",
              "      <td>Yes</td>\n",
              "      <td>...</td>\n",
              "      <td>Yes</td>\n",
              "      <td>No</td>\n",
              "      <td>No</td>\n",
              "      <td>No</td>\n",
              "      <td>No</td>\n",
              "      <td>Month-to-month</td>\n",
              "      <td>Yes</td>\n",
              "      <td>Mailed_check</td>\n",
              "      <td>53.85</td>\n",
              "      <td>108.15</td>\n",
              "    </tr>\n",
              "    <tr>\n",
              "      <th>1</th>\n",
              "      <td>Los_Angeles</td>\n",
              "      <td>90005</td>\n",
              "      <td>34.059281</td>\n",
              "      <td>-118.307420</td>\n",
              "      <td>Female</td>\n",
              "      <td>No</td>\n",
              "      <td>No</td>\n",
              "      <td>Yes</td>\n",
              "      <td>2</td>\n",
              "      <td>Yes</td>\n",
              "      <td>...</td>\n",
              "      <td>No</td>\n",
              "      <td>No</td>\n",
              "      <td>No</td>\n",
              "      <td>No</td>\n",
              "      <td>No</td>\n",
              "      <td>Month-to-month</td>\n",
              "      <td>Yes</td>\n",
              "      <td>Electronic_check</td>\n",
              "      <td>70.70</td>\n",
              "      <td>151.65</td>\n",
              "    </tr>\n",
              "    <tr>\n",
              "      <th>2</th>\n",
              "      <td>Los_Angeles</td>\n",
              "      <td>90006</td>\n",
              "      <td>34.048013</td>\n",
              "      <td>-118.293953</td>\n",
              "      <td>Female</td>\n",
              "      <td>No</td>\n",
              "      <td>No</td>\n",
              "      <td>Yes</td>\n",
              "      <td>8</td>\n",
              "      <td>Yes</td>\n",
              "      <td>...</td>\n",
              "      <td>No</td>\n",
              "      <td>Yes</td>\n",
              "      <td>No</td>\n",
              "      <td>Yes</td>\n",
              "      <td>Yes</td>\n",
              "      <td>Month-to-month</td>\n",
              "      <td>Yes</td>\n",
              "      <td>Electronic_check</td>\n",
              "      <td>99.65</td>\n",
              "      <td>820.50</td>\n",
              "    </tr>\n",
              "  </tbody>\n",
              "</table>\n",
              "<p>3 rows × 23 columns</p>\n",
              "</div>\n",
              "      <button class=\"colab-df-convert\" onclick=\"convertToInteractive('df-19fc584c-a6d3-4801-a112-cf7d9b6d00e0')\"\n",
              "              title=\"Convert this dataframe to an interactive table.\"\n",
              "              style=\"display:none;\">\n",
              "        \n",
              "  <svg xmlns=\"http://www.w3.org/2000/svg\" height=\"24px\"viewBox=\"0 0 24 24\"\n",
              "       width=\"24px\">\n",
              "    <path d=\"M0 0h24v24H0V0z\" fill=\"none\"/>\n",
              "    <path d=\"M18.56 5.44l.94 2.06.94-2.06 2.06-.94-2.06-.94-.94-2.06-.94 2.06-2.06.94zm-11 1L8.5 8.5l.94-2.06 2.06-.94-2.06-.94L8.5 2.5l-.94 2.06-2.06.94zm10 10l.94 2.06.94-2.06 2.06-.94-2.06-.94-.94-2.06-.94 2.06-2.06.94z\"/><path d=\"M17.41 7.96l-1.37-1.37c-.4-.4-.92-.59-1.43-.59-.52 0-1.04.2-1.43.59L10.3 9.45l-7.72 7.72c-.78.78-.78 2.05 0 2.83L4 21.41c.39.39.9.59 1.41.59.51 0 1.02-.2 1.41-.59l7.78-7.78 2.81-2.81c.8-.78.8-2.07 0-2.86zM5.41 20L4 18.59l7.72-7.72 1.47 1.35L5.41 20z\"/>\n",
              "  </svg>\n",
              "      </button>\n",
              "      \n",
              "  <style>\n",
              "    .colab-df-container {\n",
              "      display:flex;\n",
              "      flex-wrap:wrap;\n",
              "      gap: 12px;\n",
              "    }\n",
              "\n",
              "    .colab-df-convert {\n",
              "      background-color: #E8F0FE;\n",
              "      border: none;\n",
              "      border-radius: 50%;\n",
              "      cursor: pointer;\n",
              "      display: none;\n",
              "      fill: #1967D2;\n",
              "      height: 32px;\n",
              "      padding: 0 0 0 0;\n",
              "      width: 32px;\n",
              "    }\n",
              "\n",
              "    .colab-df-convert:hover {\n",
              "      background-color: #E2EBFA;\n",
              "      box-shadow: 0px 1px 2px rgba(60, 64, 67, 0.3), 0px 1px 3px 1px rgba(60, 64, 67, 0.15);\n",
              "      fill: #174EA6;\n",
              "    }\n",
              "\n",
              "    [theme=dark] .colab-df-convert {\n",
              "      background-color: #3B4455;\n",
              "      fill: #D2E3FC;\n",
              "    }\n",
              "\n",
              "    [theme=dark] .colab-df-convert:hover {\n",
              "      background-color: #434B5C;\n",
              "      box-shadow: 0px 1px 3px 1px rgba(0, 0, 0, 0.15);\n",
              "      filter: drop-shadow(0px 1px 2px rgba(0, 0, 0, 0.3));\n",
              "      fill: #FFFFFF;\n",
              "    }\n",
              "  </style>\n",
              "\n",
              "      <script>\n",
              "        const buttonEl =\n",
              "          document.querySelector('#df-19fc584c-a6d3-4801-a112-cf7d9b6d00e0 button.colab-df-convert');\n",
              "        buttonEl.style.display =\n",
              "          google.colab.kernel.accessAllowed ? 'block' : 'none';\n",
              "\n",
              "        async function convertToInteractive(key) {\n",
              "          const element = document.querySelector('#df-19fc584c-a6d3-4801-a112-cf7d9b6d00e0');\n",
              "          const dataTable =\n",
              "            await google.colab.kernel.invokeFunction('convertToInteractive',\n",
              "                                                     [key], {});\n",
              "          if (!dataTable) return;\n",
              "\n",
              "          const docLinkHtml = 'Like what you see? Visit the ' +\n",
              "            '<a target=\"_blank\" href=https://colab.research.google.com/notebooks/data_table.ipynb>data table notebook</a>'\n",
              "            + ' to learn more about interactive tables.';\n",
              "          element.innerHTML = '';\n",
              "          dataTable['output_type'] = 'display_data';\n",
              "          await google.colab.output.renderOutput(dataTable, element);\n",
              "          const docLink = document.createElement('div');\n",
              "          docLink.innerHTML = docLinkHtml;\n",
              "          element.appendChild(docLink);\n",
              "        }\n",
              "      </script>\n",
              "    </div>\n",
              "  </div>\n",
              "  "
            ]
          },
          "metadata": {},
          "execution_count": 18
        }
      ],
      "source": [
        "#Separar nuestras X de nuestras Y\n",
        "X = data.drop('Churn_Value', axis=1).copy()\n",
        "X.head(3)"
      ]
    },
    {
      "cell_type": "code",
      "execution_count": 19,
      "metadata": {
        "id": "aiIiHIFFnCY9"
      },
      "outputs": [],
      "source": [
        "y = data['Churn_Value'].copy()"
      ]
    },
    {
      "cell_type": "code",
      "execution_count": 20,
      "metadata": {
        "colab": {
          "base_uri": "https://localhost:8080/",
          "height": 254
        },
        "id": "GyVH7DhbnCY_",
        "outputId": "5ae0e834-e0cb-4e0d-a52c-0aaf61c76c3e"
      },
      "outputs": [
        {
          "output_type": "execute_result",
          "data": {
            "text/plain": [
              "   Zip_Code   Latitude   Longitude  Tenure_Months  Monthly_Charges  \\\n",
              "0     90003  33.964131 -118.272783              2            53.85   \n",
              "1     90005  34.059281 -118.307420              2            70.70   \n",
              "2     90006  34.048013 -118.293953              8            99.65   \n",
              "\n",
              "   Total_Charges  City_Acampo  City_Acton  City_Adelanto  City_Adin  ...  \\\n",
              "0         108.15            0           0              0          0  ...   \n",
              "1         151.65            0           0              0          0  ...   \n",
              "2         820.50            0           0              0          0  ...   \n",
              "\n",
              "   Streaming_Movies_Yes  Contract_Month-to-month  Contract_One_year  \\\n",
              "0                     0                        1                  0   \n",
              "1                     0                        1                  0   \n",
              "2                     1                        1                  0   \n",
              "\n",
              "   Contract_Two_year  Paperless_Billing_No  Paperless_Billing_Yes  \\\n",
              "0                  0                     0                      1   \n",
              "1                  0                     0                      1   \n",
              "2                  0                     0                      1   \n",
              "\n",
              "   Payment_Method_Bank_transfer_(automatic)  \\\n",
              "0                                         0   \n",
              "1                                         0   \n",
              "2                                         0   \n",
              "\n",
              "   Payment_Method_Credit_card_(automatic)  Payment_Method_Electronic_check  \\\n",
              "0                                       0                                0   \n",
              "1                                       0                                1   \n",
              "2                                       0                                1   \n",
              "\n",
              "   Payment_Method_Mailed_check  \n",
              "0                            1  \n",
              "1                            0  \n",
              "2                            0  \n",
              "\n",
              "[3 rows x 1178 columns]"
            ],
            "text/html": [
              "\n",
              "  <div id=\"df-f7dcac55-50b4-4a9b-b554-7b71f56b4c73\">\n",
              "    <div class=\"colab-df-container\">\n",
              "      <div>\n",
              "<style scoped>\n",
              "    .dataframe tbody tr th:only-of-type {\n",
              "        vertical-align: middle;\n",
              "    }\n",
              "\n",
              "    .dataframe tbody tr th {\n",
              "        vertical-align: top;\n",
              "    }\n",
              "\n",
              "    .dataframe thead th {\n",
              "        text-align: right;\n",
              "    }\n",
              "</style>\n",
              "<table border=\"1\" class=\"dataframe\">\n",
              "  <thead>\n",
              "    <tr style=\"text-align: right;\">\n",
              "      <th></th>\n",
              "      <th>Zip_Code</th>\n",
              "      <th>Latitude</th>\n",
              "      <th>Longitude</th>\n",
              "      <th>Tenure_Months</th>\n",
              "      <th>Monthly_Charges</th>\n",
              "      <th>Total_Charges</th>\n",
              "      <th>City_Acampo</th>\n",
              "      <th>City_Acton</th>\n",
              "      <th>City_Adelanto</th>\n",
              "      <th>City_Adin</th>\n",
              "      <th>...</th>\n",
              "      <th>Streaming_Movies_Yes</th>\n",
              "      <th>Contract_Month-to-month</th>\n",
              "      <th>Contract_One_year</th>\n",
              "      <th>Contract_Two_year</th>\n",
              "      <th>Paperless_Billing_No</th>\n",
              "      <th>Paperless_Billing_Yes</th>\n",
              "      <th>Payment_Method_Bank_transfer_(automatic)</th>\n",
              "      <th>Payment_Method_Credit_card_(automatic)</th>\n",
              "      <th>Payment_Method_Electronic_check</th>\n",
              "      <th>Payment_Method_Mailed_check</th>\n",
              "    </tr>\n",
              "  </thead>\n",
              "  <tbody>\n",
              "    <tr>\n",
              "      <th>0</th>\n",
              "      <td>90003</td>\n",
              "      <td>33.964131</td>\n",
              "      <td>-118.272783</td>\n",
              "      <td>2</td>\n",
              "      <td>53.85</td>\n",
              "      <td>108.15</td>\n",
              "      <td>0</td>\n",
              "      <td>0</td>\n",
              "      <td>0</td>\n",
              "      <td>0</td>\n",
              "      <td>...</td>\n",
              "      <td>0</td>\n",
              "      <td>1</td>\n",
              "      <td>0</td>\n",
              "      <td>0</td>\n",
              "      <td>0</td>\n",
              "      <td>1</td>\n",
              "      <td>0</td>\n",
              "      <td>0</td>\n",
              "      <td>0</td>\n",
              "      <td>1</td>\n",
              "    </tr>\n",
              "    <tr>\n",
              "      <th>1</th>\n",
              "      <td>90005</td>\n",
              "      <td>34.059281</td>\n",
              "      <td>-118.307420</td>\n",
              "      <td>2</td>\n",
              "      <td>70.70</td>\n",
              "      <td>151.65</td>\n",
              "      <td>0</td>\n",
              "      <td>0</td>\n",
              "      <td>0</td>\n",
              "      <td>0</td>\n",
              "      <td>...</td>\n",
              "      <td>0</td>\n",
              "      <td>1</td>\n",
              "      <td>0</td>\n",
              "      <td>0</td>\n",
              "      <td>0</td>\n",
              "      <td>1</td>\n",
              "      <td>0</td>\n",
              "      <td>0</td>\n",
              "      <td>1</td>\n",
              "      <td>0</td>\n",
              "    </tr>\n",
              "    <tr>\n",
              "      <th>2</th>\n",
              "      <td>90006</td>\n",
              "      <td>34.048013</td>\n",
              "      <td>-118.293953</td>\n",
              "      <td>8</td>\n",
              "      <td>99.65</td>\n",
              "      <td>820.50</td>\n",
              "      <td>0</td>\n",
              "      <td>0</td>\n",
              "      <td>0</td>\n",
              "      <td>0</td>\n",
              "      <td>...</td>\n",
              "      <td>1</td>\n",
              "      <td>1</td>\n",
              "      <td>0</td>\n",
              "      <td>0</td>\n",
              "      <td>0</td>\n",
              "      <td>1</td>\n",
              "      <td>0</td>\n",
              "      <td>0</td>\n",
              "      <td>1</td>\n",
              "      <td>0</td>\n",
              "    </tr>\n",
              "  </tbody>\n",
              "</table>\n",
              "<p>3 rows × 1178 columns</p>\n",
              "</div>\n",
              "      <button class=\"colab-df-convert\" onclick=\"convertToInteractive('df-f7dcac55-50b4-4a9b-b554-7b71f56b4c73')\"\n",
              "              title=\"Convert this dataframe to an interactive table.\"\n",
              "              style=\"display:none;\">\n",
              "        \n",
              "  <svg xmlns=\"http://www.w3.org/2000/svg\" height=\"24px\"viewBox=\"0 0 24 24\"\n",
              "       width=\"24px\">\n",
              "    <path d=\"M0 0h24v24H0V0z\" fill=\"none\"/>\n",
              "    <path d=\"M18.56 5.44l.94 2.06.94-2.06 2.06-.94-2.06-.94-.94-2.06-.94 2.06-2.06.94zm-11 1L8.5 8.5l.94-2.06 2.06-.94-2.06-.94L8.5 2.5l-.94 2.06-2.06.94zm10 10l.94 2.06.94-2.06 2.06-.94-2.06-.94-.94-2.06-.94 2.06-2.06.94z\"/><path d=\"M17.41 7.96l-1.37-1.37c-.4-.4-.92-.59-1.43-.59-.52 0-1.04.2-1.43.59L10.3 9.45l-7.72 7.72c-.78.78-.78 2.05 0 2.83L4 21.41c.39.39.9.59 1.41.59.51 0 1.02-.2 1.41-.59l7.78-7.78 2.81-2.81c.8-.78.8-2.07 0-2.86zM5.41 20L4 18.59l7.72-7.72 1.47 1.35L5.41 20z\"/>\n",
              "  </svg>\n",
              "      </button>\n",
              "      \n",
              "  <style>\n",
              "    .colab-df-container {\n",
              "      display:flex;\n",
              "      flex-wrap:wrap;\n",
              "      gap: 12px;\n",
              "    }\n",
              "\n",
              "    .colab-df-convert {\n",
              "      background-color: #E8F0FE;\n",
              "      border: none;\n",
              "      border-radius: 50%;\n",
              "      cursor: pointer;\n",
              "      display: none;\n",
              "      fill: #1967D2;\n",
              "      height: 32px;\n",
              "      padding: 0 0 0 0;\n",
              "      width: 32px;\n",
              "    }\n",
              "\n",
              "    .colab-df-convert:hover {\n",
              "      background-color: #E2EBFA;\n",
              "      box-shadow: 0px 1px 2px rgba(60, 64, 67, 0.3), 0px 1px 3px 1px rgba(60, 64, 67, 0.15);\n",
              "      fill: #174EA6;\n",
              "    }\n",
              "\n",
              "    [theme=dark] .colab-df-convert {\n",
              "      background-color: #3B4455;\n",
              "      fill: #D2E3FC;\n",
              "    }\n",
              "\n",
              "    [theme=dark] .colab-df-convert:hover {\n",
              "      background-color: #434B5C;\n",
              "      box-shadow: 0px 1px 3px 1px rgba(0, 0, 0, 0.15);\n",
              "      filter: drop-shadow(0px 1px 2px rgba(0, 0, 0, 0.3));\n",
              "      fill: #FFFFFF;\n",
              "    }\n",
              "  </style>\n",
              "\n",
              "      <script>\n",
              "        const buttonEl =\n",
              "          document.querySelector('#df-f7dcac55-50b4-4a9b-b554-7b71f56b4c73 button.colab-df-convert');\n",
              "        buttonEl.style.display =\n",
              "          google.colab.kernel.accessAllowed ? 'block' : 'none';\n",
              "\n",
              "        async function convertToInteractive(key) {\n",
              "          const element = document.querySelector('#df-f7dcac55-50b4-4a9b-b554-7b71f56b4c73');\n",
              "          const dataTable =\n",
              "            await google.colab.kernel.invokeFunction('convertToInteractive',\n",
              "                                                     [key], {});\n",
              "          if (!dataTable) return;\n",
              "\n",
              "          const docLinkHtml = 'Like what you see? Visit the ' +\n",
              "            '<a target=\"_blank\" href=https://colab.research.google.com/notebooks/data_table.ipynb>data table notebook</a>'\n",
              "            + ' to learn more about interactive tables.';\n",
              "          element.innerHTML = '';\n",
              "          dataTable['output_type'] = 'display_data';\n",
              "          await google.colab.output.renderOutput(dataTable, element);\n",
              "          const docLink = document.createElement('div');\n",
              "          docLink.innerHTML = docLinkHtml;\n",
              "          element.appendChild(docLink);\n",
              "        }\n",
              "      </script>\n",
              "    </div>\n",
              "  </div>\n",
              "  "
            ]
          },
          "metadata": {},
          "execution_count": 20
        }
      ],
      "source": [
        "#Crear variables dummy. Convertir una varialbe categórica en múltiples columnas con valores binarios\n",
        "X_nuevo = pd.get_dummies(X, columns=['City','Gender','Senior_Citizen','Partner','Dependents',\n",
        "                           'Phone_Service','Multiple_Lines','Internet_Service','Online_Security',\n",
        "                          'Online_Backup','Device_Protection','Tech_Support','Streaming_TV',\n",
        "                          'Streaming_Movies','Contract','Paperless_Billing','Payment_Method'])\n",
        "X_nuevo.head(3)"
      ]
    },
    {
      "cell_type": "code",
      "execution_count": 21,
      "metadata": {
        "colab": {
          "base_uri": "https://localhost:8080/"
        },
        "id": "vxy_EPGpnCY_",
        "outputId": "dbfe2898-931a-4167-9716-8658c0f550cb"
      },
      "outputs": [
        {
          "output_type": "execute_result",
          "data": {
            "text/plain": [
              "0.2653698707936959"
            ]
          },
          "metadata": {},
          "execution_count": 21
        }
      ],
      "source": [
        "#Viendo si nuestra variable a predecir tiene datos imbalanceados\n",
        "sum(y)/len(y)"
      ]
    },
    {
      "cell_type": "markdown",
      "metadata": {
        "id": "O-ZtSRu4nCZA"
      },
      "source": [
        "**Construcción del modelo**"
      ]
    },
    {
      "cell_type": "code",
      "execution_count": 22,
      "metadata": {
        "id": "ipVaAscOnCZB"
      },
      "outputs": [],
      "source": [
        "#Dividir los datos en train y test\n",
        "X_train, X_test, y_train, y_test = train_test_split(X_nuevo, y, random_state=42, stratify=y)"
      ]
    },
    {
      "cell_type": "code",
      "execution_count": 23,
      "metadata": {
        "colab": {
          "base_uri": "https://localhost:8080/"
        },
        "id": "L92z9d5qnCZC",
        "outputId": "aaac73eb-55df-4acf-fd44-bac138b5b03f"
      },
      "outputs": [
        {
          "output_type": "execute_result",
          "data": {
            "text/plain": [
              "0.2654297614539947"
            ]
          },
          "metadata": {},
          "execution_count": 23
        }
      ],
      "source": [
        "sum(y_train)/len(y_train)"
      ]
    },
    {
      "cell_type": "code",
      "execution_count": 25,
      "metadata": {
        "colab": {
          "base_uri": "https://localhost:8080/"
        },
        "id": "FhyITgiunCZC",
        "outputId": "9154d2d3-4293-4dc7-f98e-fa8334fb7b4c"
      },
      "outputs": [
        {
          "output_type": "execute_result",
          "data": {
            "text/plain": [
              "0.26519023282226006"
            ]
          },
          "metadata": {},
          "execution_count": 25
        }
      ],
      "source": [
        "sum(y_test)/len(y_test)"
      ]
    },
    {
      "cell_type": "code",
      "execution_count": 26,
      "metadata": {
        "colab": {
          "base_uri": "https://localhost:8080/"
        },
        "id": "d98SGkNYnCZD",
        "outputId": "115b16c4-a139-4cce-d277-1a29847e5d02"
      },
      "outputs": [
        {
          "output_type": "stream",
          "name": "stdout",
          "text": [
            "[0]\tvalidation_0-aucpr:0.578392\n",
            "Will train until validation_0-aucpr hasn't improved in 10 rounds.\n",
            "[1]\tvalidation_0-aucpr:0.580597\n",
            "[2]\tvalidation_0-aucpr:0.590099\n",
            "[3]\tvalidation_0-aucpr:0.601636\n",
            "[4]\tvalidation_0-aucpr:0.608932\n",
            "[5]\tvalidation_0-aucpr:0.603821\n",
            "[6]\tvalidation_0-aucpr:0.618314\n",
            "[7]\tvalidation_0-aucpr:0.610906\n",
            "[8]\tvalidation_0-aucpr:0.620122\n",
            "[9]\tvalidation_0-aucpr:0.62495\n",
            "[10]\tvalidation_0-aucpr:0.629252\n",
            "[11]\tvalidation_0-aucpr:0.628517\n",
            "[12]\tvalidation_0-aucpr:0.650051\n",
            "[13]\tvalidation_0-aucpr:0.649035\n",
            "[14]\tvalidation_0-aucpr:0.650546\n",
            "[15]\tvalidation_0-aucpr:0.652876\n",
            "[16]\tvalidation_0-aucpr:0.654922\n",
            "[17]\tvalidation_0-aucpr:0.655347\n",
            "[18]\tvalidation_0-aucpr:0.655818\n",
            "[19]\tvalidation_0-aucpr:0.655958\n",
            "[20]\tvalidation_0-aucpr:0.656236\n",
            "[21]\tvalidation_0-aucpr:0.655564\n",
            "[22]\tvalidation_0-aucpr:0.65644\n",
            "[23]\tvalidation_0-aucpr:0.657378\n",
            "[24]\tvalidation_0-aucpr:0.656494\n",
            "[25]\tvalidation_0-aucpr:0.655629\n",
            "[26]\tvalidation_0-aucpr:0.656603\n",
            "[27]\tvalidation_0-aucpr:0.657334\n",
            "[28]\tvalidation_0-aucpr:0.657318\n",
            "[29]\tvalidation_0-aucpr:0.65664\n",
            "[30]\tvalidation_0-aucpr:0.658895\n",
            "[31]\tvalidation_0-aucpr:0.658331\n",
            "[32]\tvalidation_0-aucpr:0.659459\n",
            "[33]\tvalidation_0-aucpr:0.659754\n",
            "[34]\tvalidation_0-aucpr:0.659071\n",
            "[35]\tvalidation_0-aucpr:0.660204\n",
            "[36]\tvalidation_0-aucpr:0.661816\n",
            "[37]\tvalidation_0-aucpr:0.662311\n",
            "[38]\tvalidation_0-aucpr:0.662928\n",
            "[39]\tvalidation_0-aucpr:0.663567\n",
            "[40]\tvalidation_0-aucpr:0.66383\n",
            "[41]\tvalidation_0-aucpr:0.663928\n",
            "[42]\tvalidation_0-aucpr:0.664274\n",
            "[43]\tvalidation_0-aucpr:0.665958\n",
            "[44]\tvalidation_0-aucpr:0.66564\n",
            "[45]\tvalidation_0-aucpr:0.666013\n",
            "[46]\tvalidation_0-aucpr:0.667313\n",
            "[47]\tvalidation_0-aucpr:0.665475\n",
            "[48]\tvalidation_0-aucpr:0.666904\n",
            "[49]\tvalidation_0-aucpr:0.666087\n",
            "[50]\tvalidation_0-aucpr:0.666881\n",
            "[51]\tvalidation_0-aucpr:0.666725\n",
            "[52]\tvalidation_0-aucpr:0.666911\n",
            "[53]\tvalidation_0-aucpr:0.666477\n",
            "[54]\tvalidation_0-aucpr:0.665974\n",
            "[55]\tvalidation_0-aucpr:0.66572\n",
            "[56]\tvalidation_0-aucpr:0.665201\n",
            "Stopping. Best iteration:\n",
            "[46]\tvalidation_0-aucpr:0.667313\n",
            "\n"
          ]
        },
        {
          "output_type": "execute_result",
          "data": {
            "text/plain": [
              "XGBClassifier(missing=1, seed=42)"
            ]
          },
          "metadata": {},
          "execution_count": 26
        }
      ],
      "source": [
        "#Construir el xgboost\n",
        "#inicializar objeto de clasificación\n",
        "modelo = xgb.XGBClassifier(objective='binary:logistic', missing=1, seed=42)\n",
        "#Entrenar modelo\n",
        "modelo.fit(X_train, y_train, verbose=True,\n",
        "          early_stopping_rounds=10, #parar de construir más árboles si no mejora la situación de los residuales\n",
        "          eval_metric='aucpr',\n",
        "          eval_set=[(X_test, y_test)])"
      ]
    },
    {
      "cell_type": "code",
      "execution_count": 27,
      "metadata": {
        "id": "kCwqIVYonCZD",
        "colab": {
          "base_uri": "https://localhost:8080/",
          "height": 370
        },
        "outputId": "9d871530-8b16-426f-bef2-e048e511f634"
      },
      "outputs": [
        {
          "output_type": "stream",
          "name": "stderr",
          "text": [
            "/usr/local/lib/python3.7/dist-packages/sklearn/utils/deprecation.py:87: FutureWarning: Function plot_confusion_matrix is deprecated; Function `plot_confusion_matrix` is deprecated in 1.0 and will be removed in 1.2. Use one of the class methods: ConfusionMatrixDisplay.from_predictions or ConfusionMatrixDisplay.from_estimator.\n",
            "  warnings.warn(msg, category=FutureWarning)\n"
          ]
        },
        {
          "output_type": "execute_result",
          "data": {
            "text/plain": [
              "<sklearn.metrics._plot.confusion_matrix.ConfusionMatrixDisplay at 0x7f8c7719efd0>"
            ]
          },
          "metadata": {},
          "execution_count": 27
        },
        {
          "output_type": "display_data",
          "data": {
            "text/plain": [
              "<Figure size 432x288 with 2 Axes>"
            ],
            "image/png": "[encoded data removed]"
          },
          "metadata": {
            "needs_background": "light"
          }
        }
      ],
      "source": [
        "#ver cómo funciona el modelo entrenado con los datos de prueba\n",
        "plot_confusion_matrix(modelo, X_test, y_test, values_format='d', display_labels=[\"No se fue\",\"Se fue\"])\n"
      ]
    },
    {
      "cell_type": "markdown",
      "metadata": {
        "id": "gkpCZFBanCZE"
      },
      "source": [
        "En la matriz de confusión vemos que de 1294 personas que no se fueron, 1148 (88%) fueron clasificados correctamente. \n",
        "\n",
        "Y de los 467 personas que sí se fueron, 255 (54%) fueron clasificados correctamente. \n",
        "\n",
        "Entonces el modelo de XGBoost no fue tan bueno. Parte del problema es que los datos están imbalanceados. \n",
        "\n",
        "Ya que el hecho de que se vaya la gente y deje los servicios de IBM cuesta dinero, queremos capturar más la información de las personas que se fueron. La buena noticia es que XGBoost tiene un parámetro, \n",
        "*scale_pos_weight*, que ayuda con datos imbalanceados. \n",
        "\n",
        "Utilicemos **cross-validation** para optimizar los parámetros. \n",
        "\n",
        "#### Cross validation y GridSearch para optimizar los hiper-parámetros\n",
        "\n",
        "XGBoost tiene muchísimos hiper-parámetros a ajustar ya sean:\n",
        "- max_depth \n",
        "- learning_rate (eta)\n",
        "- gamma\n",
        "- reg_lambda"
      ]
    },
    {
      "cell_type": "code",
      "execution_count": 28,
      "metadata": {
        "id": "B8dLoXxunCZF",
        "colab": {
          "base_uri": "https://localhost:8080/"
        },
        "outputId": "cdee7f01-6f44-461f-e562-fb7ca22ecac5"
      },
      "outputs": [
        {
          "output_type": "execute_result",
          "data": {
            "text/plain": [
              "{'gamma': 0.25,\n",
              " 'learning_rate': 0.1,\n",
              " 'max_depth': 4,\n",
              " 'reg_lambda': 100,\n",
              " 'scale_pos_weight': 3}"
            ]
          },
          "metadata": {},
          "execution_count": 28
        }
      ],
      "source": [
        "#como es bien tardado el proceso del ajuste de hiperparámetros, en lugar de optimizar todo\n",
        "#de una vez, optimicé parámetros por secciones para hacerlo más rápido\n",
        "\n",
        "#Ronda 1\n",
        "#param_grid={\n",
        "#    'max_depth':[3,4,5],\n",
        "#    'learning_rate':[0.1,0.01,0.05],\n",
        "#    'gamma':[0, 0.25,1],\n",
        "#    'reg_lambda':[0,1,10],\n",
        "#    'scale_pos_weight':[1,3,5]\n",
        "#}\n",
        "\n",
        "#Ronda 2\n",
        "param_grid={\n",
        "    'max_depth':[4],\n",
        "    'learning_rate':[0.1,0.5,1],\n",
        "    'gamma':[0.25],\n",
        "    'reg_lambda':[10,20,100],\n",
        "    'scale_pos_weight':[3]\n",
        "}\n",
        "\n",
        "optimal_params = GridSearchCV(\n",
        "                            estimator=xgb.XGBClassifier(objective='binary:logistic',\n",
        "                            seed=42,\n",
        "                            subsample=0.9,\n",
        "                            colsample_bytree=0.5),\n",
        "                            param_grid=param_grid,\n",
        "                            scoring='roc_auc',\n",
        "                            verbose=0,\n",
        "                            n_jobs=10,\n",
        "                            cv=3)\n",
        "\n",
        "optimal_params.fit(X_train, y_train,\n",
        "                  early_stopping_rounds=10,\n",
        "                  eval_metric='auc',\n",
        "                  eval_set=[(X_test, y_test)],\n",
        "                  verbose=False)\n",
        "optimal_params.best_params_"
      ]
    },
    {
      "cell_type": "markdown",
      "metadata": {
        "id": "qpzftes9nCZG"
      },
      "source": [
        "{'gamma': 0.25,\n",
        " 'learning_rate': 0.1,\n",
        " 'max_depth': 4,\n",
        " 'reg_lambda': 10,\n",
        " 'scale_pos_weight': 3}"
      ]
    },
    {
      "cell_type": "code",
      "execution_count": 31,
      "metadata": {
        "id": "_w7SQnYznCZG",
        "colab": {
          "base_uri": "https://localhost:8080/"
        },
        "outputId": "b0137586-3d40-4163-cfe8-4c92b040e31c"
      },
      "outputs": [
        {
          "output_type": "execute_result",
          "data": {
            "text/plain": [
              "XGBClassifier(colsample_bytree=0.5, gamma=0.25, learn_rate=0.1, max_depth=4,\n",
              "              reg_lambda=100, scale_pos_weight=3, seed=42, subsample=0.9)"
            ]
          },
          "metadata": {},
          "execution_count": 31
        }
      ],
      "source": [
        "#Construir y evaluar el XGBoost con los hiperparámetros óptimos\n",
        "modelo = xgb.XGBClassifier(objective='binary:logistic',\n",
        "                            seed=42,\n",
        "                           gamma=0.25,\n",
        "                           learn_rate=0.1,\n",
        "                           max_depth=4,\n",
        "                           reg_lambda=100,\n",
        "                           scale_pos_weight=3,\n",
        "                            subsample=0.9,\n",
        "                            colsample_bytree=0.5)\n",
        "\n",
        "modelo.fit(X_train, y_train,\n",
        "                  early_stopping_rounds=10,\n",
        "                  eval_metric='auc',\n",
        "                  eval_set=[(X_test, y_test)],\n",
        "                  verbose=False)"
      ]
    },
    {
      "cell_type": "code",
      "execution_count": 32,
      "metadata": {
        "id": "fB36zArrnCZH",
        "colab": {
          "base_uri": "https://localhost:8080/",
          "height": 370
        },
        "outputId": "bb2aea4b-033d-418d-c4d0-9d30ac9d6291"
      },
      "outputs": [
        {
          "output_type": "stream",
          "name": "stderr",
          "text": [
            "/usr/local/lib/python3.7/dist-packages/sklearn/utils/deprecation.py:87: FutureWarning: Function plot_confusion_matrix is deprecated; Function `plot_confusion_matrix` is deprecated in 1.0 and will be removed in 1.2. Use one of the class methods: ConfusionMatrixDisplay.from_predictions or ConfusionMatrixDisplay.from_estimator.\n",
            "  warnings.warn(msg, category=FutureWarning)\n"
          ]
        },
        {
          "output_type": "execute_result",
          "data": {
            "text/plain": [
              "<sklearn.metrics._plot.confusion_matrix.ConfusionMatrixDisplay at 0x7f8c771230d0>"
            ]
          },
          "metadata": {},
          "execution_count": 32
        },
        {
          "output_type": "display_data",
          "data": {
            "text/plain": [
              "<Figure size 432x288 with 2 Axes>"
            ],
            "image/png": "[encoded data removed]"
          },
          "metadata": {
            "needs_background": "light"
          }
        }
      ],
      "source": [
        "#ver cómo funciona el modelo entrenado con los datos de prueba\n",
        "plot_confusion_matrix(modelo, X_test, y_test, values_format='d', display_labels=[\"No se fue\",\"Se fue\"])\n"
      ]
    },
    {
      "cell_type": "markdown",
      "metadata": {
        "id": "EKJgLbK5nCZI"
      },
      "source": [
        "En la matriz de confusión vemos que de 1294 personas que no se fueron, 933 (72%) fueron clasificados correctamente. \n",
        "\n",
        "Y de los 467 personas que sí se fueron, 387 (82%) fueron clasificados correctamente"
      ]
    },
    {
      "cell_type": "markdown",
      "metadata": {
        "id": "RE3UNk-GnCZJ"
      },
      "source": [
        "#### Un poco de bibliografía...\n",
        "https://www.kaggle.com/prashant111/a-guide-on-xgboost-hyperparameters-tuning"
      ]
    }
  ],
  "metadata": {
    "kernelspec": {
      "display_name": "Python 3 (ipykernel)",
      "language": "python",
      "name": "python3"
    },
    "language_info": {
      "codemirror_mode": {
        "name": "ipython",
        "version": 3
      },
      "file_extension": ".py",
      "mimetype": "text/x-python",
      "name": "python",
      "nbconvert_exporter": "python",
      "pygments_lexer": "ipython3",
      "version": "3.9.7"
    },
    "colab": {
      "provenance": []
    }
  },
  "nbformat": 4,
  "nbformat_minor": 0
}